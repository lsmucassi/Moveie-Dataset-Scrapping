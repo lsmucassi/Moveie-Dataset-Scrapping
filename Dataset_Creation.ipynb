{
 "metadata": {
  "language_info": {
   "codemirror_mode": {
    "name": "ipython",
    "version": 3
   },
   "file_extension": ".py",
   "mimetype": "text/x-python",
   "name": "python",
   "nbconvert_exporter": "python",
   "pygments_lexer": "ipython3",
   "version": "3.8.3-final"
  },
  "orig_nbformat": 2,
  "kernelspec": {
   "name": "python3",
   "display_name": "Python 3"
  }
 },
 "nbformat": 4,
 "nbformat_minor": 2,
 "cells": [
  {
   "source": [
    "# MOVIE DATASET CREATION\n"
   ],
   "cell_type": "markdown",
   "metadata": {}
  },
  {
   "cell_type": "code",
   "execution_count": 24,
   "metadata": {},
   "outputs": [],
   "source": [
    "# all imports here\n",
    "from bs4 import BeautifulSoup as bs\n",
    "import requests\n"
   ]
  },
  {
   "source": [
    "### TASK 1: Get info Box from wikipedia(for one movie) - store in a python dictionary"
   ],
   "cell_type": "markdown",
   "metadata": {}
  },
  {
   "cell_type": "code",
   "execution_count": 25,
   "metadata": {
    "tags": [
     "outputPrepend"
    ]
   },
   "outputs": [
    {
     "output_type": "stream",
     "name": "stdout",
     "text": [
      "ass=\"interlanguage-link interwiki-hif\">\n        <a class=\"interlanguage-link-target\" href=\"https://hif.wikipedia.org/wiki/Toy_Story_3\" hreflang=\"hif\" lang=\"hif\" title=\"Toy Story 3 – Fiji Hindi\">\n         Fiji Hindi\n        </a>\n       </li>\n       <li class=\"interlanguage-link interwiki-fr\">\n        <a class=\"interlanguage-link-target\" href=\"https://fr.wikipedia.org/wiki/Toy_Story_3\" hreflang=\"fr\" lang=\"fr\" title=\"Toy Story 3 – French\">\n         Français\n        </a>\n       </li>\n       <li class=\"interlanguage-link interwiki-gl\">\n        <a class=\"interlanguage-link-target\" href=\"https://gl.wikipedia.org/wiki/Toy_Story_3\" hreflang=\"gl\" lang=\"gl\" title=\"Toy Story 3 – Galician\">\n         Galego\n        </a>\n       </li>\n       <li class=\"interlanguage-link interwiki-ko\">\n        <a class=\"interlanguage-link-target\" href=\"https://ko.wikipedia.org/wiki/%ED%86%A0%EC%9D%B4_%EC%8A%A4%ED%86%A0%EB%A6%AC_3\" hreflang=\"ko\" lang=\"ko\" title=\"토이 스토리 3 – Korean\">\n         한국어\n        </a>\n       </li>\n       <li class=\"interlanguage-link interwiki-hy\">\n        <a class=\"interlanguage-link-target\" href=\"https://hy.wikipedia.org/wiki/%D4%BD%D5%A1%D5%B2%D5%A1%D5%AC%D5%AB%D6%84%D5%B6%D5%A5%D6%80%D5%AB_%D5%BA%D5%A1%D5%BF%D5%B4%D5%B8%D6%82%D5%A9%D5%B5%D5%B8%D6%82%D5%B6_3\" hreflang=\"hy\" lang=\"hy\" title=\"Խաղալիքների պատմություն 3 – Armenian\">\n         Հայերեն\n        </a>\n       </li>\n       <li class=\"interlanguage-link interwiki-hr\">\n        <a class=\"interlanguage-link-target\" href=\"https://hr.wikipedia.org/wiki/Pri%C4%8Da_o_igra%C4%8Dkama_3\" hreflang=\"hr\" lang=\"hr\" title=\"Priča o igračkama 3 – Croatian\">\n         Hrvatski\n        </a>\n       </li>\n       <li class=\"interlanguage-link interwiki-id\">\n        <a class=\"interlanguage-link-target\" href=\"https://id.wikipedia.org/wiki/Toy_Story_3\" hreflang=\"id\" lang=\"id\" title=\"Toy Story 3 – Indonesian\">\n         Bahasa Indonesia\n        </a>\n       </li>\n       <li class=\"interlanguage-link interwiki-ia\">\n        <a class=\"interlanguage-link-target\" href=\"https://ia.wikipedia.org/wiki/Toy_Story_3\" hreflang=\"ia\" lang=\"ia\" title=\"Toy Story 3 – Interlingua\">\n         Interlingua\n        </a>\n       </li>\n       <li class=\"interlanguage-link interwiki-zu\">\n        <a class=\"interlanguage-link-target\" href=\"https://zu.wikipedia.org/wiki/Indaba_Yesithathu_Yamathoyizi\" hreflang=\"zu\" lang=\"zu\" title=\"Indaba Yesithathu Yamathoyizi – Zulu\">\n         IsiZulu\n        </a>\n       </li>\n       <li class=\"interlanguage-link interwiki-is\">\n        <a class=\"interlanguage-link-target\" href=\"https://is.wikipedia.org/wiki/Leikfangasaga_3\" hreflang=\"is\" lang=\"is\" title=\"Leikfangasaga 3 – Icelandic\">\n         Íslenska\n        </a>\n       </li>\n       <li class=\"interlanguage-link interwiki-it badge-Q17437796 badge-featuredarticle\" title=\"featured article badge\">\n        <a class=\"interlanguage-link-target\" href=\"https://it.wikipedia.org/wiki/Toy_Story_3_-_La_grande_fuga\" hreflang=\"it\" lang=\"it\" title=\"Toy Story 3 - La grande fuga – Italian\">\n         Italiano\n        </a>\n       </li>\n       <li class=\"interlanguage-link interwiki-he\">\n        <a class=\"interlanguage-link-target\" href=\"https://he.wikipedia.org/wiki/%D7%A6%D7%A2%D7%A6%D7%95%D7%A2_%D7%A9%D7%9C_%D7%A1%D7%99%D7%A4%D7%95%D7%A8_3\" hreflang=\"he\" lang=\"he\" title=\"צעצוע של סיפור 3 – Hebrew\">\n         עברית\n        </a>\n       </li>\n       <li class=\"interlanguage-link interwiki-jv\">\n        <a class=\"interlanguage-link-target\" href=\"https://jv.wikipedia.org/wiki/Toy_Story_3\" hreflang=\"jv\" lang=\"jv\" title=\"Toy Story 3 – Javanese\">\n         Jawa\n        </a>\n       </li>\n       <li class=\"interlanguage-link interwiki-ka\">\n        <a class=\"interlanguage-link-target\" href=\"https://ka.wikipedia.org/wiki/%E1%83%A1%E1%83%90%E1%83%97%E1%83%90%E1%83%9B%E1%83%90%E1%83%A8%E1%83%9D%E1%83%94%E1%83%91%E1%83%98%E1%83%A1_%E1%83%98%E1%83%A1%E1%83%A2%E1%83%9D%E1%83%A0%E1%83%98%E1%83%90_3\" hreflang=\"ka\" lang=\"ka\" title=\"სათამაშოების ისტორია 3 – Georgian\">\n         ქართული\n        </a>\n       </li>\n       <li class=\"interlanguage-link interwiki-kw\">\n        <a class=\"interlanguage-link-target\" href=\"https://kw.wikipedia.org/wiki/Toy_Story_3\" hreflang=\"kw\" lang=\"kw\" title=\"Toy Story 3 – Cornish\">\n         Kernowek\n        </a>\n       </li>\n       <li class=\"interlanguage-link interwiki-ky\">\n        <a class=\"interlanguage-link-target\" href=\"https://ky.wikipedia.org/wiki/%D0%9E%D1%8E%D0%BD%D1%87%D1%83%D0%BA_%D0%BE%D0%BA%D1%83%D1%8F%D1%81%D1%8B_3\" hreflang=\"ky\" lang=\"ky\" title=\"Оюнчук окуясы 3 – Kyrgyz\">\n         Кыргызча\n        </a>\n       </li>\n       <li class=\"interlanguage-link interwiki-la\">\n        <a class=\"interlanguage-link-target\" href=\"https://la.wikipedia.org/wiki/Toy_Story_3\" hreflang=\"la\" lang=\"la\" title=\"Toy Story 3 – Latin\">\n         Latina\n        </a>\n       </li>\n       <li class=\"interlanguage-link interwiki-lv\">\n        <a class=\"interlanguage-link-target\" href=\"https://lv.wikipedia.org/wiki/Rota%C4%BClietu_st%C4%81sts_3\" hreflang=\"lv\" lang=\"lv\" title=\"Rotaļlietu stāsts 3 – Latvian\">\n         Latviešu\n        </a>\n       </li>\n       <li class=\"interlanguage-link interwiki-lt\">\n        <a class=\"interlanguage-link-target\" href=\"https://lt.wikipedia.org/wiki/%C5%BDaisl%C5%B3_istorija_3\" hreflang=\"lt\" lang=\"lt\" title=\"Žaislų istorija 3 – Lithuanian\">\n         Lietuvių\n        </a>\n       </li>\n       <li class=\"interlanguage-link interwiki-hu\">\n        <a class=\"interlanguage-link-target\" href=\"https://hu.wikipedia.org/wiki/Toy_Story_3.\" hreflang=\"hu\" lang=\"hu\" title=\"Toy Story 3. – Hungarian\">\n         Magyar\n        </a>\n       </li>\n       <li class=\"interlanguage-link interwiki-ml\">\n        <a class=\"interlanguage-link-target\" href=\"https://ml.wikipedia.org/wiki/%E0%B4%9F%E0%B5%8B%E0%B4%AF%E0%B5%8D_%E0%B4%B8%E0%B5%8D%E0%B4%B1%E0%B5%8D%E0%B4%B1%E0%B5%8B%E0%B4%B1%E0%B4%BF_3\" hreflang=\"ml\" lang=\"ml\" title=\"ടോയ് സ്റ്റോറി 3 – Malayalam\">\n         മലയാളം\n        </a>\n       </li>\n       <li class=\"interlanguage-link interwiki-ms\">\n        <a class=\"interlanguage-link-target\" href=\"https://ms.wikipedia.org/wiki/Toy_Story_3\" hreflang=\"ms\" lang=\"ms\" title=\"Toy Story 3 – Malay\">\n         Bahasa Melayu\n        </a>\n       </li>\n       <li class=\"interlanguage-link interwiki-nl\">\n        <a class=\"interlanguage-link-target\" href=\"https://nl.wikipedia.org/wiki/Toy_Story_3\" hreflang=\"nl\" lang=\"nl\" title=\"Toy Story 3 – Dutch\">\n         Nederlands\n        </a>\n       </li>\n       <li class=\"interlanguage-link interwiki-ja\">\n        <a class=\"interlanguage-link-target\" href=\"https://ja.wikipedia.org/wiki/%E3%83%88%E3%82%A4%E3%83%BB%E3%82%B9%E3%83%88%E3%83%BC%E3%83%AA%E3%83%BC3\" hreflang=\"ja\" lang=\"ja\" title=\"トイ・ストーリー3 – Japanese\">\n         日本語\n        </a>\n       </li>\n       <li class=\"interlanguage-link interwiki-no\">\n        <a class=\"interlanguage-link-target\" href=\"https://no.wikipedia.org/wiki/Toy_Story_3\" hreflang=\"nb\" lang=\"nb\" title=\"Toy Story 3 – Norwegian Bokmål\">\n         Norsk bokmål\n        </a>\n       </li>\n       <li class=\"interlanguage-link interwiki-nn\">\n        <a class=\"interlanguage-link-target\" href=\"https://nn.wikipedia.org/wiki/Toy_Story_3\" hreflang=\"nn\" lang=\"nn\" title=\"Toy Story 3 – Norwegian Nynorsk\">\n         Norsk nynorsk\n        </a>\n       </li>\n       <li class=\"interlanguage-link interwiki-uz\">\n        <a class=\"interlanguage-link-target\" href=\"https://uz.wikipedia.org/wiki/O%CA%BByinchoqlar_tarixi_3\" hreflang=\"uz\" lang=\"uz\" title=\"Oʻyinchoqlar tarixi 3 – Uzbek\">\n         Oʻzbekcha/ўзбекча\n        </a>\n       </li>\n       <li class=\"interlanguage-link interwiki-pl\">\n        <a class=\"interlanguage-link-target\" href=\"https://pl.wikipedia.org/wiki/Toy_Story_3\" hreflang=\"pl\" lang=\"pl\" title=\"Toy Story 3 – Polish\">\n         Polski\n        </a>\n       </li>\n       <li class=\"interlanguage-link interwiki-pt badge-Q17437796 badge-featuredarticle\" title=\"featured article badge\">\n        <a class=\"interlanguage-link-target\" href=\"https://pt.wikipedia.org/wiki/Toy_Story_3\" hreflang=\"pt\" lang=\"pt\" title=\"Toy Story 3 – Portuguese\">\n         Português\n        </a>\n       </li>\n       <li class=\"interlanguage-link interwiki-ro\">\n        <a class=\"interlanguage-link-target\" href=\"https://ro.wikipedia.org/wiki/Povestea_juc%C4%83riilor_3\" hreflang=\"ro\" lang=\"ro\" title=\"Povestea jucăriilor 3 – Romanian\">\n         Română\n        </a>\n       </li>\n       <li class=\"interlanguage-link interwiki-qu\">\n        <a class=\"interlanguage-link-target\" href=\"https://qu.wikipedia.org/wiki/Pukllanamanta_Willakuy_3\" hreflang=\"qu\" lang=\"qu\" title=\"Pukllanamanta Willakuy 3 – Quechua\">\n         Runa Simi\n        </a>\n       </li>\n       <li class=\"interlanguage-link interwiki-ru\">\n        <a class=\"interlanguage-link-target\" href=\"https://ru.wikipedia.org/wiki/%D0%98%D1%81%D1%82%D0%BE%D1%80%D0%B8%D1%8F_%D0%B8%D0%B3%D1%80%D1%83%D1%88%D0%B5%D0%BA:_%D0%91%D0%BE%D0%BB%D1%8C%D1%88%D0%BE%D0%B9_%D0%BF%D0%BE%D0%B1%D0%B5%D0%B3\" hreflang=\"ru\" lang=\"ru\" title=\"История игрушек: Большой побег – Russian\">\n         Русский\n        </a>\n       </li>\n       <li class=\"interlanguage-link interwiki-sco\">\n        <a class=\"interlanguage-link-target\" href=\"https://sco.wikipedia.org/wiki/Toy_Story_3\" hreflang=\"sco\" lang=\"sco\" title=\"Toy Story 3 – Scots\">\n         Scots\n        </a>\n       </li>\n       <li class=\"interlanguage-link interwiki-simple\">\n        <a class=\"interlanguage-link-target\" href=\"https://simple.wikipedia.org/wiki/Toy_Story_3\" hreflang=\"en-simple\" lang=\"en-simple\" title=\"Toy Story 3 – Simple English\">\n         Simple English\n        </a>\n       </li>\n       <li class=\"interlanguage-link interwiki-sk\">\n        <a class=\"interlanguage-link-target\" href=\"https://sk.wikipedia.org/wiki/Toy_Story_3:_Pr%C3%ADbeh_hra%C4%8Diek\" hreflang=\"sk\" lang=\"sk\" title=\"Toy Story 3: Príbeh hračiek – Slovak\">\n         Slovenčina\n        </a>\n       </li>\n       <li class=\"interlanguage-link interwiki-sr\">\n        <a class=\"interlanguage-link-target\" href=\"https://sr.wikipedia.org/wiki/%D0%9F%D1%80%D0%B8%D1%87%D0%B0_%D0%BE_%D0%B8%D0%B3%D1%80%D0%B0%D1%87%D0%BA%D0%B0%D0%BC%D0%B0_3\" hreflang=\"sr\" lang=\"sr\" title=\"Прича о играчкама 3 – Serbian\">\n         Српски / srpski\n        </a>\n       </li>\n       <li class=\"interlanguage-link interwiki-fi\">\n        <a class=\"interlanguage-link-target\" href=\"https://fi.wikipedia.org/wiki/Toy_Story_3\" hreflang=\"fi\" lang=\"fi\" title=\"Toy Story 3 – Finnish\">\n         Suomi\n        </a>\n       </li>\n       <li class=\"interlanguage-link interwiki-sv\">\n        <a class=\"interlanguage-link-target\" href=\"https://sv.wikipedia.org/wiki/Toy_Story_3\" hreflang=\"sv\" lang=\"sv\" title=\"Toy Story 3 – Swedish\">\n         Svenska\n        </a>\n       </li>\n       <li class=\"interlanguage-link interwiki-ta\">\n        <a class=\"interlanguage-link-target\" href=\"https://ta.wikipedia.org/wiki/%E0%AE%9F%E0%AE%BE%E0%AE%AF%E0%AF%8D_%E0%AE%B8%E0%AF%8D%E0%AE%9F%E0%AF%8B%E0%AE%B0%E0%AE%BF_3_(%E0%AE%A4%E0%AE%BF%E0%AE%B0%E0%AF%88%E0%AE%AA%E0%AF%8D%E0%AE%AA%E0%AE%9F%E0%AE%AE%E0%AF%8D)\" hreflang=\"ta\" lang=\"ta\" title=\"டாய் ஸ்டோரி 3 (திரைப்படம்) – Tamil\">\n         தமிழ்\n        </a>\n       </li>\n       <li class=\"interlanguage-link interwiki-th\">\n        <a class=\"interlanguage-link-target\" href=\"https://th.wikipedia.org/wiki/%E0%B8%97%E0%B8%AD%E0%B8%A2_%E0%B8%AA%E0%B8%95%E0%B8%AD%E0%B8%A3%E0%B8%B5%E0%B9%88_3\" hreflang=\"th\" lang=\"th\" title=\"ทอย สตอรี่ 3 – Thai\">\n         ไทย\n        </a>\n       </li>\n       <li class=\"interlanguage-link interwiki-tr\">\n        <a class=\"interlanguage-link-target\" href=\"https://tr.wikipedia.org/wiki/Oyuncak_Hik%C3%A2yesi_3\" hreflang=\"tr\" lang=\"tr\" title=\"Oyuncak Hikâyesi 3 – Turkish\">\n         Türkçe\n        </a>\n       </li>\n       <li class=\"interlanguage-link interwiki-uk\">\n        <a class=\"interlanguage-link-target\" href=\"https://uk.wikipedia.org/wiki/%D0%86%D1%81%D1%82%D0%BE%D1%80%D1%96%D1%8F_%D1%96%D0%B3%D1%80%D0%B0%D1%88%D0%BE%D0%BA_3\" hreflang=\"uk\" lang=\"uk\" title=\"Історія іграшок 3 – Ukrainian\">\n         Українська\n        </a>\n       </li>\n       <li class=\"interlanguage-link interwiki-vi\">\n        <a class=\"interlanguage-link-target\" href=\"https://vi.wikipedia.org/wiki/C%C3%A2u_chuy%E1%BB%87n_%C4%91%E1%BB%93_ch%C6%A1i_3\" hreflang=\"vi\" lang=\"vi\" title=\"Câu chuyện đồ chơi 3 – Vietnamese\">\n         Tiếng Việt\n        </a>\n       </li>\n       <li class=\"interlanguage-link interwiki-wuu\">\n        <a class=\"interlanguage-link-target\" href=\"https://wuu.wikipedia.org/wiki/%E7%8E%A9%E5%85%B7%E6%80%BB%E5%8A%A8%E5%91%983\" hreflang=\"wuu\" lang=\"wuu\" title=\"玩具总动员3 – Wu Chinese\">\n         吴语\n        </a>\n       </li>\n       <li class=\"interlanguage-link interwiki-yi\">\n        <a class=\"interlanguage-link-target\" href=\"https://yi.wikipedia.org/wiki/%D7%A6%D7%90%D7%A6%D7%A7%D7%A2_%D7%9E%D7%A2%D7%A9%D7%94_3\" hreflang=\"yi\" lang=\"yi\" title=\"צאצקע מעשה 3 – Yiddish\">\n         ייִדיש\n        </a>\n       </li>\n       <li class=\"interlanguage-link interwiki-zh-yue\">\n        <a class=\"interlanguage-link-target\" href=\"https://zh-yue.wikipedia.org/wiki/%E5%8F%8D%E6%96%97%E5%A5%87%E5%85%B53\" hreflang=\"yue\" lang=\"yue\" title=\"反斗奇兵3 – Cantonese\">\n         粵語\n        </a>\n       </li>\n       <li class=\"interlanguage-link interwiki-diq\">\n        <a class=\"interlanguage-link-target\" href=\"https://diq.wikipedia.org/wiki/Toy_Story_3\" hreflang=\"diq\" lang=\"diq\" title=\"Toy Story 3 – Zazaki\">\n         Zazaki\n        </a>\n       </li>\n       <li class=\"interlanguage-link interwiki-zh\">\n        <a class=\"interlanguage-link-target\" href=\"https://zh.wikipedia.org/wiki/%E7%8E%A9%E5%85%B7%E7%B8%BD%E5%8B%95%E5%93%A13\" hreflang=\"zh\" lang=\"zh\" title=\"玩具總動員3 – Chinese\">\n         中文\n        </a>\n       </li>\n      </ul>\n      <div class=\"after-portlet after-portlet-lang\">\n       <span class=\"wb-langlinks-edit wb-langlinks-link\">\n        <a class=\"wbc-editpage\" href=\"https://www.wikidata.org/wiki/Special:EntityPage/Q187278#sitelinks-wikipedia\" title=\"Edit interlanguage links\">\n         Edit links\n        </a>\n       </span>\n      </div>\n     </div>\n    </nav>\n   </div>\n  </div>\n  <footer class=\"mw-footer\" id=\"footer\" role=\"contentinfo\">\n   <ul id=\"footer-info\">\n    <li id=\"footer-info-lastmod\">\n     This page was last edited on 8 November 2020, at 12:28\n     <span class=\"anonymous-show\">\n      (UTC)\n     </span>\n     .\n    </li>\n    <li id=\"footer-info-copyright\">\n     Text is available under the\n     <a href=\"//en.wikipedia.org/wiki/Wikipedia:Text_of_Creative_Commons_Attribution-ShareAlike_3.0_Unported_License\" rel=\"license\">\n      Creative Commons Attribution-ShareAlike License\n     </a>\n     <a href=\"//creativecommons.org/licenses/by-sa/3.0/\" rel=\"license\" style=\"display:none;\">\n     </a>\n     ;\nadditional terms may apply.  By using this site, you agree to the\n     <a href=\"//foundation.wikimedia.org/wiki/Terms_of_Use\">\n      Terms of Use\n     </a>\n     and\n     <a href=\"//foundation.wikimedia.org/wiki/Privacy_policy\">\n      Privacy Policy\n     </a>\n     . Wikipedia® is a registered trademark of the\n     <a href=\"//www.wikimediafoundation.org/\">\n      Wikimedia Foundation, Inc.\n     </a>\n     , a non-profit organization.\n    </li>\n   </ul>\n   <ul id=\"footer-places\">\n    <li id=\"footer-places-privacy\">\n     <a class=\"extiw\" href=\"https://foundation.wikimedia.org/wiki/Privacy_policy\" title=\"wmf:Privacy policy\">\n      Privacy policy\n     </a>\n    </li>\n    <li id=\"footer-places-about\">\n     <a href=\"/wiki/Wikipedia:About\" title=\"Wikipedia:About\">\n      About Wikipedia\n     </a>\n    </li>\n    <li id=\"footer-places-disclaimer\">\n     <a href=\"/wiki/Wikipedia:General_disclaimer\" title=\"Wikipedia:General disclaimer\">\n      Disclaimers\n     </a>\n    </li>\n    <li id=\"footer-places-contact\">\n     <a href=\"//en.wikipedia.org/wiki/Wikipedia:Contact_us\">\n      Contact Wikipedia\n     </a>\n    </li>\n    <li id=\"footer-places-mobileview\">\n     <a class=\"noprint stopMobileRedirectToggle\" href=\"//en.m.wikipedia.org/w/index.php?title=Toy_Story_3&amp;mobileaction=toggle_view_mobile\">\n      Mobile view\n     </a>\n    </li>\n    <li id=\"footer-places-developers\">\n     <a href=\"https://www.mediawiki.org/wiki/Special:MyLanguage/How_to_contribute\">\n      Developers\n     </a>\n    </li>\n    <li id=\"footer-places-statslink\">\n     <a href=\"https://stats.wikimedia.org/#/en.wikipedia.org\">\n      Statistics\n     </a>\n    </li>\n    <li id=\"footer-places-cookiestatement\">\n     <a href=\"https://foundation.wikimedia.org/wiki/Cookie_statement\">\n      Cookie statement\n     </a>\n    </li>\n   </ul>\n   <ul class=\"noprint\" id=\"footer-icons\">\n    <li id=\"footer-copyrightico\">\n     <a href=\"https://wikimediafoundation.org/\">\n      <img alt=\"Wikimedia Foundation\" height=\"31\" loading=\"lazy\" src=\"/static/images/footer/wikimedia-button.png\" srcset=\"/static/images/footer/wikimedia-button-1.5x.png 1.5x, /static/images/footer/wikimedia-button-2x.png 2x\" width=\"88\"/>\n     </a>\n    </li>\n    <li id=\"footer-poweredbyico\">\n     <a href=\"https://www.mediawiki.org/\">\n      <img alt=\"Powered by MediaWiki\" height=\"31\" loading=\"lazy\" src=\"/static/images/footer/poweredby_mediawiki_88x31.png\" srcset=\"/static/images/footer/poweredby_mediawiki_132x47.png 1.5x, /static/images/footer/poweredby_mediawiki_176x62.png 2x\" width=\"88\"/>\n     </a>\n    </li>\n   </ul>\n   <div style=\"clear: both;\">\n   </div>\n  </footer>\n  <script>\n   (RLQ=window.RLQ||[]).push(function(){mw.config.set({\"wgPageParseReport\":{\"limitreport\":{\"cputime\":\"2.468\",\"walltime\":\"3.128\",\"ppvisitednodes\":{\"value\":13181,\"limit\":1000000},\"postexpandincludesize\":{\"value\":749116,\"limit\":2097152},\"templateargumentsize\":{\"value\":162637,\"limit\":2097152},\"expansiondepth\":{\"value\":24,\"limit\":40},\"expensivefunctioncount\":{\"value\":14,\"limit\":500},\"unstrip-depth\":{\"value\":1,\"limit\":20},\"unstrip-size\":{\"value\":569480,\"limit\":5000000},\"entityaccesscount\":{\"value\":1,\"limit\":400},\"timingprofile\":[\"100.00% 2641.644      1 -total\",\" 39.31% 1038.357      1 Template:Reflist\",\" 21.37%  564.482    116 Template:Cite_web\",\" 14.83%  391.825     55 Template:Cite_news\",\"  7.82%  206.549      2 Template:Navboxes\",\"  7.45%  196.713      1 Template:Authority_control\",\"  7.42%  195.907      4 Template:Infobox\",\"  5.73%  151.378      1 Template:Albumchart\",\"  5.68%  150.021      1 Template:Infobox_album\",\"  3.79%  100.052     18 Template:Navbox\"]},\"scribunto\":{\"limitreport-timeusage\":{\"value\":\"1.238\",\"limit\":\"10.000\"},\"limitreport-memusage\":{\"value\":10875711,\"limit\":52428800},\"limitreport-profile\":[[\"?\",\"200\",\"15.6\"],[\"dataWrapper \\u003Cmw.lua:661\\u003E\",\"140\",\"10.9\"],[\"Scribunto_LuaSandboxCallback::match\",\"140\",\"10.9\"],[\"recursiveClone \\u003CmwInit.lua:41\\u003E\",\"80\",\"6.2\"],[\"Scribunto_LuaSandboxCallback::callParserFunction\",\"80\",\"6.2\"],[\"Scribunto_LuaSandboxCallback::gsub\",\"80\",\"6.2\"],[\"chunk \\u003CModule:Citation/CS1\\u003E\",\"40\",\"3.1\"],[\"Scribunto_LuaSandboxCallback::anchorEncode\",\"40\",\"3.1\"],[\"\\u003Cmw.lua:683\\u003E\",\"40\",\"3.1\"],[\"makeMessage \\u003Cmw.message.lua:76\\u003E\",\"40\",\"3.1\"],[\"[others]\",\"400\",\"31.2\"]]},\"cachereport\":{\"origin\":\"mw1366\",\"timestamp\":\"20201115194302\",\"ttl\":3600,\"transientcontent\":true}}});});\n  </script>\n  <script type=\"application/ld+json\">\n   {\"@context\":\"https:\\/\\/schema.org\",\"@type\":\"Article\",\"name\":\"Toy Story 3\",\"url\":\"https:\\/\\/en.wikipedia.org\\/wiki\\/Toy_Story_3\",\"sameAs\":\"http:\\/\\/www.wikidata.org\\/entity\\/Q187278\",\"mainEntity\":\"http:\\/\\/www.wikidata.org\\/entity\\/Q187278\",\"author\":{\"@type\":\"Organization\",\"name\":\"Contributors to Wikimedia projects\"},\"publisher\":{\"@type\":\"Organization\",\"name\":\"Wikimedia Foundation, Inc.\",\"logo\":{\"@type\":\"ImageObject\",\"url\":\"https:\\/\\/www.wikimedia.org\\/static\\/images\\/wmf-hor-googpub.png\"}},\"datePublished\":\"2004-11-27T03:49:41Z\",\"dateModified\":\"2020-11-08T12:28:06Z\",\"image\":\"https:\\/\\/upload.wikimedia.org\\/wikipedia\\/en\\/6\\/69\\/Toy_Story_3_poster.jpg\",\"headline\":\"2010 American animated film directed by Lee Unkrich\"}\n  </script>\n  <script>\n   (RLQ=window.RLQ||[]).push(function(){mw.config.set({\"wgBackendResponseTime\":241,\"wgHostname\":\"mw1326\"});});\n  </script>\n </body>\n</html>\n"
     ]
    }
   ],
   "source": [
    "r = requests.get(\"https://en.wikipedia.org/wiki/Toy_Story_3\")\n",
    "\n",
    "# convert to a beautiful soup object\n",
    "soup = bs(r.content)\n",
    "\n",
    "contents = soup.prettify()\n",
    "print(contents)"
   ]
  },
  {
   "cell_type": "code",
   "execution_count": 26,
   "metadata": {},
   "outputs": [
    {
     "output_type": "stream",
     "name": "stdout",
     "text": [
      "<tr>\n <th class=\"summary\" colspan=\"2\" style=\"text-align:center;font-size:125%;font-weight:bold;font-size:110%;font-style:italic;\">\n  Toy Story 3\n </th>\n</tr>\n\n<tr>\n <td colspan=\"2\" style=\"text-align:center\">\n  <a class=\"image\" href=\"/wiki/File:Toy_Story_3_poster.jpg\" title=\"All of the toys packed close together, holding up a large numeral '3', with Buzz, who is putting a friendly arm around Woody's shoulder, and Woody holding the top of the 3.\">\n   <img alt=\"All of the toys packed close together, holding up a large numeral '3', with Buzz, who is putting a friendly arm around Woody's shoulder, and Woody holding the top of the 3.\" class=\"thumbborder\" data-file-height=\"326\" data-file-width=\"220\" decoding=\"async\" height=\"326\" src=\"//upload.wikimedia.org/wikipedia/en/6/69/Toy_Story_3_poster.jpg\" width=\"220\"/>\n  </a>\n  <div style=\"font-size:95%;padding:0.35em 0.35em 0.25em;line-height:1.25em;\">\n   Theatrical release poster\n  </div>\n </td>\n</tr>\n\n<tr>\n <th scope=\"row\" style=\"white-space:nowrap;padding-right:0.65em;\">\n  Directed by\n </th>\n <td>\n  <a href=\"/wiki/Lee_Unkrich\" title=\"Lee Unkrich\">\n   Lee Unkrich\n  </a>\n </td>\n</tr>\n\n<tr>\n <th scope=\"row\" style=\"white-space:nowrap;padding-right:0.65em;\">\n  Produced by\n </th>\n <td>\n  <a href=\"/wiki/Darla_K._Anderson\" title=\"Darla K. Anderson\">\n   Darla K. Anderson\n  </a>\n </td>\n</tr>\n\n<tr>\n <th scope=\"row\" style=\"white-space:nowrap;padding-right:0.65em;\">\n  Screenplay by\n </th>\n <td>\n  <a href=\"/wiki/Michael_Arndt\" title=\"Michael Arndt\">\n   Michael Arndt\n  </a>\n </td>\n</tr>\n\n<tr>\n <th scope=\"row\" style=\"white-space:nowrap;padding-right:0.65em;\">\n  Story by\n </th>\n <td>\n  <div class=\"plainlist\">\n   <ul>\n    <li>\n     <a href=\"/wiki/John_Lasseter\" title=\"John Lasseter\">\n      John Lasseter\n     </a>\n    </li>\n    <li>\n     <a href=\"/wiki/Andrew_Stanton\" title=\"Andrew Stanton\">\n      Andrew Stanton\n     </a>\n    </li>\n    <li>\n     Lee Unkrich\n    </li>\n   </ul>\n  </div>\n </td>\n</tr>\n\n<tr>\n <th scope=\"row\" style=\"white-space:nowrap;padding-right:0.65em;\">\n  Starring\n </th>\n <td>\n  <div class=\"plainlist\">\n   <ul>\n    <li>\n     <a href=\"/wiki/Tom_Hanks\" title=\"Tom Hanks\">\n      Tom Hanks\n     </a>\n    </li>\n    <li>\n     <a href=\"/wiki/Tim_Allen\" title=\"Tim Allen\">\n      Tim Allen\n     </a>\n    </li>\n    <li>\n     <a href=\"/wiki/Joan_Cusack\" title=\"Joan Cusack\">\n      Joan Cusack\n     </a>\n    </li>\n    <li>\n     <a href=\"/wiki/Don_Rickles\" title=\"Don Rickles\">\n      Don Rickles\n     </a>\n    </li>\n    <li>\n     <a href=\"/wiki/Wallace_Shawn\" title=\"Wallace Shawn\">\n      Wallace Shawn\n     </a>\n    </li>\n    <li>\n     <a href=\"/wiki/John_Ratzenberger\" title=\"John Ratzenberger\">\n      John Ratzenberger\n     </a>\n    </li>\n    <li>\n     <a href=\"/wiki/Estelle_Harris\" title=\"Estelle Harris\">\n      Estelle Harris\n     </a>\n    </li>\n    <li>\n     <a href=\"/wiki/Blake_Clark\" title=\"Blake Clark\">\n      Blake Clark\n     </a>\n    </li>\n    <li>\n     <a href=\"/wiki/Jeff_Pidgeon\" title=\"Jeff Pidgeon\">\n      Jeff Pidgeon\n     </a>\n    </li>\n    <li>\n     <a href=\"/wiki/Ned_Beatty\" title=\"Ned Beatty\">\n      Ned Beatty\n     </a>\n    </li>\n    <li>\n     <a href=\"/wiki/Michael_Keaton\" title=\"Michael Keaton\">\n      Michael Keaton\n     </a>\n    </li>\n    <li>\n     <a href=\"/wiki/Jodi_Benson\" title=\"Jodi Benson\">\n      Jodi Benson\n     </a>\n    </li>\n    <li>\n     <a href=\"/wiki/John_Morris_(actor)\" title=\"John Morris (actor)\">\n      John Morris\n     </a>\n    </li>\n   </ul>\n  </div>\n </td>\n</tr>\n\n<tr>\n <th scope=\"row\" style=\"white-space:nowrap;padding-right:0.65em;\">\n  Music by\n </th>\n <td>\n  <a href=\"/wiki/Randy_Newman\" title=\"Randy Newman\">\n   Randy Newman\n  </a>\n </td>\n</tr>\n\n<tr>\n <th scope=\"row\" style=\"white-space:nowrap;padding-right:0.65em;\">\n  Cinematography\n </th>\n <td>\n  <div class=\"plainlist\">\n   <ul>\n    <li>\n     Jeremy Lasky\n    </li>\n    <li>\n     Kim White\n    </li>\n   </ul>\n  </div>\n </td>\n</tr>\n\n<tr>\n <th scope=\"row\" style=\"white-space:nowrap;padding-right:0.65em;\">\n  Edited by\n </th>\n <td>\n  <a href=\"/wiki/Ken_Schretzmann\" title=\"Ken Schretzmann\">\n   Ken Schretzmann\n  </a>\n </td>\n</tr>\n\n<tr>\n <th scope=\"row\" style=\"white-space:nowrap;padding-right:0.65em;\">\n  <div style=\"display:inline-block; padding:0.1em 0;line-height:1.2em;\">\n   Production\n   <br/>\n   company\n  </div>\n </th>\n <td>\n  <div style=\"vertical-align:middle;\">\n   <div class=\"plainlist\">\n    <ul>\n     <li>\n      <a href=\"/wiki/Walt_Disney_Pictures\" title=\"Walt Disney Pictures\">\n       Walt Disney Pictures\n      </a>\n     </li>\n     <li>\n      <a class=\"mw-redirect\" href=\"/wiki/Pixar_Animation_Studios\" title=\"Pixar Animation Studios\">\n       Pixar Animation Studios\n      </a>\n     </li>\n    </ul>\n   </div>\n  </div>\n </td>\n</tr>\n\n<tr>\n <th scope=\"row\" style=\"white-space:nowrap;padding-right:0.65em;\">\n  Distributed by\n </th>\n <td>\n  <a href=\"/wiki/Walt_Disney_Studios_Motion_Pictures\" title=\"Walt Disney Studios Motion Pictures\">\n   Walt Disney Studios\n   <br/>\n   Motion Pictures\n  </a>\n </td>\n</tr>\n\n<tr>\n <th scope=\"row\" style=\"white-space:nowrap;padding-right:0.65em;\">\n  <div style=\"display:inline-block; padding:0.1em 0;line-height:1.2em;white-space:normal;\">\n   Release date\n  </div>\n </th>\n <td>\n  <div class=\"plainlist\">\n   <ul>\n    <li>\n     June 12, 2010\n     <span style=\"display:none\">\n      (\n      <span class=\"bday dtstart published updated\">\n       2010-06-12\n      </span>\n      )\n     </span>\n     (\n     <a href=\"/wiki/Taormina_Film_Fest\" title=\"Taormina Film Fest\">\n      Taormina Film Fest\n     </a>\n     )\n    </li>\n    <li>\n     June 18, 2010\n     <span style=\"display:none\">\n      (\n      <span class=\"bday dtstart published updated\">\n       2010-06-18\n      </span>\n      )\n     </span>\n     (United States)\n    </li>\n   </ul>\n  </div>\n </td>\n</tr>\n\n<tr>\n <th scope=\"row\" style=\"white-space:nowrap;padding-right:0.65em;\">\n  <div style=\"display:inline-block; padding:0.1em 0;line-height:1.2em;white-space:normal;\">\n   Running time\n  </div>\n </th>\n <td>\n  103 minutes\n  <sup class=\"reference\" id=\"cite_ref-mojo1_1-0\">\n   <a href=\"#cite_note-mojo1-1\">\n    [1]\n   </a>\n  </sup>\n </td>\n</tr>\n\n<tr>\n <th scope=\"row\" style=\"white-space:nowrap;padding-right:0.65em;\">\n  Country\n </th>\n <td>\n  United States\n </td>\n</tr>\n\n<tr>\n <th scope=\"row\" style=\"white-space:nowrap;padding-right:0.65em;\">\n  Language\n </th>\n <td>\n  English\n </td>\n</tr>\n\n<tr>\n <th scope=\"row\" style=\"white-space:nowrap;padding-right:0.65em;\">\n  Budget\n </th>\n <td>\n  $200 million\n  <sup class=\"reference\" id=\"cite_ref-mojo1_1-1\">\n   <a href=\"#cite_note-mojo1-1\">\n    [1]\n   </a>\n  </sup>\n </td>\n</tr>\n\n<tr>\n <th scope=\"row\" style=\"white-space:nowrap;padding-right:0.65em;\">\n  Box office\n </th>\n <td>\n  $1.067 billion\n  <sup class=\"reference\" id=\"cite_ref-mojo1_1-2\">\n   <a href=\"#cite_note-mojo1-1\">\n    [1]\n   </a>\n  </sup>\n </td>\n</tr>\n"
     ]
    }
   ],
   "source": [
    "info_box = soup.find(class_=\"infobox vevent\")\n",
    "# print(info_box.prettify())\n",
    "\n",
    "info_rows = info_box.find_all(\"tr\")\n",
    "for row in info_rows:\n",
    "    print(row.prettify())"
   ]
  },
  {
   "cell_type": "code",
   "execution_count": 39,
   "metadata": {},
   "outputs": [
    {
     "output_type": "execute_result",
     "data": {
      "text/plain": [
       "{'title': 'Toy Story 3',\n",
       " 'Directed by': 'Lee Unkrich',\n",
       " 'Produced by': 'Darla K. Anderson',\n",
       " 'Screenplay by': 'Michael Arndt',\n",
       " 'Story by': ['John Lasseter', 'Andrew Stanton', 'Lee Unkrich'],\n",
       " 'Starring': ['Tom Hanks',\n",
       "  'Tim Allen',\n",
       "  'Joan Cusack',\n",
       "  'Don Rickles',\n",
       "  'Wallace Shawn',\n",
       "  'John Ratzenberger',\n",
       "  'Estelle Harris',\n",
       "  'Blake Clark',\n",
       "  'Jeff Pidgeon',\n",
       "  'Ned Beatty',\n",
       "  'Michael Keaton',\n",
       "  'Jodi Benson',\n",
       "  'John Morris'],\n",
       " 'Music by': 'Randy Newman',\n",
       " 'Cinematography': ['Jeremy Lasky', 'Kim White'],\n",
       " 'Edited by': 'Ken Schretzmann',\n",
       " 'Production company': ['Walt Disney Pictures', 'Pixar Animation Studios'],\n",
       " 'Distributed by': 'Walt Disney Studios Motion Pictures',\n",
       " 'Release date': ['June 12, 2010 ( 2010-06-12 ) ( Taormina Film Fest )',\n",
       "  'June 18, 2010 ( 2010-06-18 ) (United States)'],\n",
       " 'Running time': '103 minutes [1]',\n",
       " 'Country': 'United States',\n",
       " 'Language': 'English',\n",
       " 'Budget': '$200\\xa0million [1]',\n",
       " 'Box office': '$1.067\\xa0billion [1]'}"
      ]
     },
     "metadata": {},
     "execution_count": 39
    }
   ],
   "source": [
    "# (\" \", strip=True) joines results with a space and removes extra spaces\n",
    "\n",
    "def get_content_value(row_data):\n",
    "    if row_data.find(\"li\"):\n",
    "        return [li.get_text(\" \", strip=True).replace(\"\\xa0\", \" \") for li in row_data.find_all(\"li\")]\n",
    "    else:\n",
    "        return row_data.get_text(\" \", strip=True)\n",
    "\n",
    "movie_info = {}\n",
    "\n",
    "for index, row in enumerate(info_rows):\n",
    "    if index == 0:\n",
    "        movie_info['title'] = row.find(\"th\").get_text(\" \", strip=True)\n",
    "    elif index == 1:\n",
    "        continue\n",
    "    else:\n",
    "        content_key = row.find(\"th\").get_text(\" \", strip=True)\n",
    "        content_value = get_content_value(row.find(\"td\"))\n",
    "        movie_info[content_key] = content_value\n",
    "\n",
    "# print(movie_info)\n",
    "movie_info\n",
    "\n"
   ]
  },
  {
   "cell_type": "code",
   "execution_count": null,
   "metadata": {},
   "outputs": [],
   "source": [
    "### TASK 2: "
   ]
  }
 ]
}