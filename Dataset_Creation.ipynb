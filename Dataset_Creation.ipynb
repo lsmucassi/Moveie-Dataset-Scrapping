{
 "metadata": {
  "language_info": {
   "codemirror_mode": {
    "name": "ipython",
    "version": 3
   },
   "file_extension": ".py",
   "mimetype": "text/x-python",
   "name": "python",
   "nbconvert_exporter": "python",
   "pygments_lexer": "ipython3",
   "version": "3.8.3-final"
  },
  "orig_nbformat": 2,
  "kernelspec": {
   "name": "python3",
   "display_name": "Python 3"
  }
 },
 "nbformat": 4,
 "nbformat_minor": 2,
 "cells": [
  {
   "source": [
    "# MOVIE DATASET CREATION\n"
   ],
   "cell_type": "markdown",
   "metadata": {}
  },
  {
   "cell_type": "code",
   "execution_count": 85,
   "metadata": {},
   "outputs": [],
   "source": [
    "# all imports here\n",
    "from bs4 import BeautifulSoup as bs\n",
    "from datetime import datetime\n",
    "import requests\n",
    "\n",
    "import re\n",
    "import json"
   ]
  },
  {
   "source": [
    "### TASK 1: Get info Box from wikipedia(for one movie) - store in a python dictionary"
   ],
   "cell_type": "markdown",
   "metadata": {}
  },
  {
   "cell_type": "code",
   "execution_count": 2,
   "metadata": {
    "tags": []
   },
   "outputs": [],
   "source": [
    "r = requests.get(\"https://en.wikipedia.org/wiki/Toy_Story_3\")\n",
    "\n",
    "# convert to a beautiful soup object\n",
    "soup = bs(r.content)\n",
    "\n",
    "contents = soup.prettify()\n",
    "# print(contents)"
   ]
  },
  {
   "cell_type": "code",
   "execution_count": 3,
   "metadata": {},
   "outputs": [
    {
     "output_type": "stream",
     "name": "stdout",
     "text": [
      "<tr>\n <th class=\"summary\" colspan=\"2\" style=\"text-align:center;font-size:125%;font-weight:bold;font-size:110%;font-style:italic;\">\n  Toy Story 3\n </th>\n</tr>\n\n<tr>\n <td colspan=\"2\" style=\"text-align:center\">\n  <a class=\"image\" href=\"/wiki/File:Toy_Story_3_poster.jpg\" title=\"All of the toys packed close together, holding up a large numeral '3', with Buzz, who is putting a friendly arm around Woody's shoulder, and Woody holding the top of the 3.\">\n   <img alt=\"All of the toys packed close together, holding up a large numeral '3', with Buzz, who is putting a friendly arm around Woody's shoulder, and Woody holding the top of the 3.\" class=\"thumbborder\" data-file-height=\"326\" data-file-width=\"220\" decoding=\"async\" height=\"326\" src=\"//upload.wikimedia.org/wikipedia/en/6/69/Toy_Story_3_poster.jpg\" width=\"220\"/>\n  </a>\n  <div style=\"font-size:95%;padding:0.35em 0.35em 0.25em;line-height:1.25em;\">\n   Theatrical release poster\n  </div>\n </td>\n</tr>\n\n<tr>\n <th scope=\"row\" style=\"white-space:nowrap;padding-right:0.65em;\">\n  Directed by\n </th>\n <td>\n  <a href=\"/wiki/Lee_Unkrich\" title=\"Lee Unkrich\">\n   Lee Unkrich\n  </a>\n </td>\n</tr>\n\n<tr>\n <th scope=\"row\" style=\"white-space:nowrap;padding-right:0.65em;\">\n  Produced by\n </th>\n <td>\n  <a href=\"/wiki/Darla_K._Anderson\" title=\"Darla K. Anderson\">\n   Darla K. Anderson\n  </a>\n </td>\n</tr>\n\n<tr>\n <th scope=\"row\" style=\"white-space:nowrap;padding-right:0.65em;\">\n  Screenplay by\n </th>\n <td>\n  <a href=\"/wiki/Michael_Arndt\" title=\"Michael Arndt\">\n   Michael Arndt\n  </a>\n </td>\n</tr>\n\n<tr>\n <th scope=\"row\" style=\"white-space:nowrap;padding-right:0.65em;\">\n  Story by\n </th>\n <td>\n  <div class=\"plainlist\">\n   <ul>\n    <li>\n     <a href=\"/wiki/John_Lasseter\" title=\"John Lasseter\">\n      John Lasseter\n     </a>\n    </li>\n    <li>\n     <a href=\"/wiki/Andrew_Stanton\" title=\"Andrew Stanton\">\n      Andrew Stanton\n     </a>\n    </li>\n    <li>\n     Lee Unkrich\n    </li>\n   </ul>\n  </div>\n </td>\n</tr>\n\n<tr>\n <th scope=\"row\" style=\"white-space:nowrap;padding-right:0.65em;\">\n  Starring\n </th>\n <td>\n  <div class=\"plainlist\">\n   <ul>\n    <li>\n     <a href=\"/wiki/Tom_Hanks\" title=\"Tom Hanks\">\n      Tom Hanks\n     </a>\n    </li>\n    <li>\n     <a href=\"/wiki/Tim_Allen\" title=\"Tim Allen\">\n      Tim Allen\n     </a>\n    </li>\n    <li>\n     <a href=\"/wiki/Joan_Cusack\" title=\"Joan Cusack\">\n      Joan Cusack\n     </a>\n    </li>\n    <li>\n     <a href=\"/wiki/Don_Rickles\" title=\"Don Rickles\">\n      Don Rickles\n     </a>\n    </li>\n    <li>\n     <a href=\"/wiki/Wallace_Shawn\" title=\"Wallace Shawn\">\n      Wallace Shawn\n     </a>\n    </li>\n    <li>\n     <a href=\"/wiki/John_Ratzenberger\" title=\"John Ratzenberger\">\n      John Ratzenberger\n     </a>\n    </li>\n    <li>\n     <a href=\"/wiki/Estelle_Harris\" title=\"Estelle Harris\">\n      Estelle Harris\n     </a>\n    </li>\n    <li>\n     <a href=\"/wiki/Blake_Clark\" title=\"Blake Clark\">\n      Blake Clark\n     </a>\n    </li>\n    <li>\n     <a href=\"/wiki/Jeff_Pidgeon\" title=\"Jeff Pidgeon\">\n      Jeff Pidgeon\n     </a>\n    </li>\n    <li>\n     <a href=\"/wiki/Ned_Beatty\" title=\"Ned Beatty\">\n      Ned Beatty\n     </a>\n    </li>\n    <li>\n     <a href=\"/wiki/Michael_Keaton\" title=\"Michael Keaton\">\n      Michael Keaton\n     </a>\n    </li>\n    <li>\n     <a href=\"/wiki/Jodi_Benson\" title=\"Jodi Benson\">\n      Jodi Benson\n     </a>\n    </li>\n    <li>\n     <a href=\"/wiki/John_Morris_(actor)\" title=\"John Morris (actor)\">\n      John Morris\n     </a>\n    </li>\n   </ul>\n  </div>\n </td>\n</tr>\n\n<tr>\n <th scope=\"row\" style=\"white-space:nowrap;padding-right:0.65em;\">\n  Music by\n </th>\n <td>\n  <a href=\"/wiki/Randy_Newman\" title=\"Randy Newman\">\n   Randy Newman\n  </a>\n </td>\n</tr>\n\n<tr>\n <th scope=\"row\" style=\"white-space:nowrap;padding-right:0.65em;\">\n  Cinematography\n </th>\n <td>\n  <div class=\"plainlist\">\n   <ul>\n    <li>\n     Jeremy Lasky\n    </li>\n    <li>\n     Kim White\n    </li>\n   </ul>\n  </div>\n </td>\n</tr>\n\n<tr>\n <th scope=\"row\" style=\"white-space:nowrap;padding-right:0.65em;\">\n  Edited by\n </th>\n <td>\n  <a href=\"/wiki/Ken_Schretzmann\" title=\"Ken Schretzmann\">\n   Ken Schretzmann\n  </a>\n </td>\n</tr>\n\n<tr>\n <th scope=\"row\" style=\"white-space:nowrap;padding-right:0.65em;\">\n  <div style=\"display:inline-block; padding:0.1em 0;line-height:1.2em;\">\n   Production\n   <br/>\n   company\n  </div>\n </th>\n <td>\n  <div style=\"vertical-align:middle;\">\n   <div class=\"plainlist\">\n    <ul>\n     <li>\n      <a href=\"/wiki/Walt_Disney_Pictures\" title=\"Walt Disney Pictures\">\n       Walt Disney Pictures\n      </a>\n     </li>\n     <li>\n      <a class=\"mw-redirect\" href=\"/wiki/Pixar_Animation_Studios\" title=\"Pixar Animation Studios\">\n       Pixar Animation Studios\n      </a>\n     </li>\n    </ul>\n   </div>\n  </div>\n </td>\n</tr>\n\n<tr>\n <th scope=\"row\" style=\"white-space:nowrap;padding-right:0.65em;\">\n  Distributed by\n </th>\n <td>\n  <a href=\"/wiki/Walt_Disney_Studios_Motion_Pictures\" title=\"Walt Disney Studios Motion Pictures\">\n   Walt Disney Studios\n   <br/>\n   Motion Pictures\n  </a>\n </td>\n</tr>\n\n<tr>\n <th scope=\"row\" style=\"white-space:nowrap;padding-right:0.65em;\">\n  <div style=\"display:inline-block; padding:0.1em 0;line-height:1.2em;white-space:normal;\">\n   Release date\n  </div>\n </th>\n <td>\n  <div class=\"plainlist\">\n   <ul>\n    <li>\n     June 12, 2010\n     <span style=\"display:none\">\n      (\n      <span class=\"bday dtstart published updated\">\n       2010-06-12\n      </span>\n      )\n     </span>\n     (\n     <a href=\"/wiki/Taormina_Film_Fest\" title=\"Taormina Film Fest\">\n      Taormina Film Fest\n     </a>\n     )\n    </li>\n    <li>\n     June 18, 2010\n     <span style=\"display:none\">\n      (\n      <span class=\"bday dtstart published updated\">\n       2010-06-18\n      </span>\n      )\n     </span>\n     (United States)\n    </li>\n   </ul>\n  </div>\n </td>\n</tr>\n\n<tr>\n <th scope=\"row\" style=\"white-space:nowrap;padding-right:0.65em;\">\n  <div style=\"display:inline-block; padding:0.1em 0;line-height:1.2em;white-space:normal;\">\n   Running time\n  </div>\n </th>\n <td>\n  103 minutes\n  <sup class=\"reference\" id=\"cite_ref-mojo1_1-0\">\n   <a href=\"#cite_note-mojo1-1\">\n    [1]\n   </a>\n  </sup>\n </td>\n</tr>\n\n<tr>\n <th scope=\"row\" style=\"white-space:nowrap;padding-right:0.65em;\">\n  Country\n </th>\n <td>\n  United States\n </td>\n</tr>\n\n<tr>\n <th scope=\"row\" style=\"white-space:nowrap;padding-right:0.65em;\">\n  Language\n </th>\n <td>\n  English\n </td>\n</tr>\n\n<tr>\n <th scope=\"row\" style=\"white-space:nowrap;padding-right:0.65em;\">\n  Budget\n </th>\n <td>\n  $200 million\n  <sup class=\"reference\" id=\"cite_ref-mojo1_1-1\">\n   <a href=\"#cite_note-mojo1-1\">\n    [1]\n   </a>\n  </sup>\n </td>\n</tr>\n\n<tr>\n <th scope=\"row\" style=\"white-space:nowrap;padding-right:0.65em;\">\n  Box office\n </th>\n <td>\n  $1.067 billion\n  <sup class=\"reference\" id=\"cite_ref-mojo1_1-2\">\n   <a href=\"#cite_note-mojo1-1\">\n    [1]\n   </a>\n  </sup>\n </td>\n</tr>\n"
     ]
    }
   ],
   "source": [
    "info_box = soup.find(class_=\"infobox vevent\")\n",
    "# print(info_box.prettify())\n",
    "\n",
    "info_rows = info_box.find_all(\"tr\")\n",
    "for row in info_rows:\n",
    "    print(row.prettify())"
   ]
  },
  {
   "cell_type": "code",
   "execution_count": 4,
   "metadata": {},
   "outputs": [],
   "source": [
    "# (\" \", strip=True) joines results with a space and removes extra spaces\n",
    "\n",
    "def get_content_value(row_data):\n",
    "    if row_data.find(\"li\"):\n",
    "        return [li.get_text(\" \", strip=True).replace(\"\\xa0\", \" \") for li in row_data.find_all(\"li\")]\n",
    "    else:\n",
    "        return row_data.get_text(\" \", strip=True)\n",
    "\n",
    "movie_info = {}\n",
    "\n",
    "for index, row in enumerate(info_rows):\n",
    "    if index == 0:\n",
    "        movie_info['title'] = row.find(\"th\").get_text(\" \", strip=True)\n",
    "    elif index == 1:\n",
    "        continue\n",
    "    else:\n",
    "        content_key = row.find(\"th\").get_text(\" \", strip=True)\n",
    "        content_value = get_content_value(row.find(\"td\"))\n",
    "        movie_info[content_key] = content_value\n",
    "\n",
    "# print(movie_info)\n",
    "# movie_info\n",
    "\n"
   ]
  },
  {
   "source": [
    "### TASK 2: Get all info box for all movies"
   ],
   "cell_type": "markdown",
   "metadata": {}
  },
  {
   "cell_type": "code",
   "execution_count": 5,
   "metadata": {
    "tags": []
   },
   "outputs": [],
   "source": [
    "r = requests.get(\"https://en.wikipedia.org/wiki/List_of_Walt_Disney_Pictures_films\")\n",
    "\n",
    "# convert to a beautiful soup object\n",
    "soup = bs(r.content)\n",
    "\n",
    "contents = soup.prettify()\n",
    "# print(contents)"
   ]
  },
  {
   "cell_type": "code",
   "execution_count": 63,
   "metadata": {},
   "outputs": [],
   "source": [
    "movies = soup.select(\".wikitable.sortable i\")\n",
    "\n",
    "def get_content_value(row_data):\n",
    "    if row_data.find(\"li\"):\n",
    "        return [li.get_text(\" \", strip=True).replace(\"\\xa0\", \" \") for li in row_data.find_all(\"li\")]\n",
    "    elif row_data.find(\"br\"):\n",
    "         return [text for text in row_data.stripped_strings]\n",
    "    else:\n",
    "        return row_data.get_text(\" \", strip=True).replace(\"\\xa0\", \" \")\n",
    "# movies[0].a['href']\n",
    "# movies\n",
    "\n",
    "def clean_tags(soup):\n",
    "    for tag in soup.find_all([\"sup\", \"span\"]):\n",
    "        tag.decompose()\n",
    "\n",
    "def get_info_box(url):\n",
    "    r = requests.get(url)\n",
    "    soup = bs(r.content)\n",
    "    info_box = soup.find(class_=\"infobox vevent\")\n",
    "    info_rows = info_box.find_all(\"tr\")\n",
    "\n",
    "    clean_tags(soup)\n",
    "    movie_info = {}\n",
    "\n",
    "    for index, row in enumerate(info_rows):\n",
    "        if index == 0:\n",
    "            movie_info['title'] = row.find(\"th\").get_text(\" \", strip=True)\n",
    "        else:\n",
    "            header = row.find('th')\n",
    "            if header:\n",
    "                content_key = row.find(\"th\").get_text(\" \", strip=True)\n",
    "                content_value = get_content_value(row.find(\"td\"))\n",
    "                movie_info[content_key] = content_value\n",
    "\n",
    "    return movie_info\n"
   ]
  },
  {
   "cell_type": "code",
   "execution_count": 64,
   "metadata": {},
   "outputs": [
    {
     "output_type": "execute_result",
     "data": {
      "text/plain": [
       "{'title': 'The Great Locomotive Chase',\n",
       " 'Directed by': 'Francis D. Lyon',\n",
       " 'Produced by': ['Lawrence Edward Watkin', 'Walt Disney'],\n",
       " 'Written by': 'Lawrence Edward Watkin',\n",
       " 'Starring': ['Fess Parker',\n",
       "  'Jeffrey Hunter',\n",
       "  'John Lupton',\n",
       "  'Jeff York',\n",
       "  'Slim Pickens'],\n",
       " 'Music by': 'Paul J. Smith',\n",
       " 'Cinematography': 'Charles Boyle',\n",
       " 'Edited by': 'Ellsworth Hoagland',\n",
       " 'Production company': 'Walt Disney Productions',\n",
       " 'Distributed by': 'Buena Vista Distribution',\n",
       " 'Release date': 'June 8, 1956',\n",
       " 'Running time': '85 minutes',\n",
       " 'Country': 'United States',\n",
       " 'Language': 'English',\n",
       " 'Box office': '$1.7 million (US)'}"
      ]
     },
     "metadata": {},
     "execution_count": 64
    }
   ],
   "source": [
    "get_info_box(\"https://en.wikipedia.org/wiki/The_Great_Locomotive_Chase\")"
   ]
  },
  {
   "cell_type": "code",
   "execution_count": 65,
   "metadata": {
    "tags": []
   },
   "outputs": [
    {
     "output_type": "stream",
     "name": "stdout",
     "text": [
      "Zorro the Avenger\n",
      "'NoneType' object has no attribute 'find'\n",
      "The Sign of Zorro\n",
      "'NoneType' object has no attribute 'find'\n",
      "True-Life Adventures\n",
      "'NoneType' object has no attribute 'find_all'\n"
     ]
    }
   ],
   "source": [
    "r = requests.get(\"https://en.wikipedia.org/wiki/List_of_Walt_Disney_Pictures_films\")\n",
    "# convert to a beautiful soup object\n",
    "soup = bs(r.content)\n",
    "movies = soup.select(\".wikitable.sortable i a\")\n",
    "# print(len(movies))\n",
    "\n",
    "base_path = \"https://en.wikipedia.org/\"\n",
    "movie_info_list = []\n",
    "\n",
    "for index, movie in enumerate(movies):\n",
    "    # if index % 10 == 0:\n",
    "    #     print(index)\n",
    "    try:\n",
    "        full_path = base_path + movie['href']\n",
    "        title = movie['title']\n",
    "\n",
    "        # print(relative_path, title, sep=\"\\n\")\n",
    "        # print()\n",
    "        movie_info_list.append(get_info_box(full_path))\n",
    "    except Exception as e:\n",
    "        print(movie.get_text())\n",
    "        print(e)\n",
    "\n",
    "\n"
   ]
  },
  {
   "cell_type": "code",
   "execution_count": 67,
   "metadata": {},
   "outputs": [],
   "source": [
    "# print(len(movie_info_list))\n",
    "\n",
    "# save the dictionary data as a json\n",
    "def save_data(title, data):\n",
    "    with open(title, 'w', encoding='utf-8') as f:\n",
    "        json.dump(data, f, ensure_ascii=False, indent=2)\n",
    "\n",
    "def load_data(title):\n",
    "    with open(title, encoding='utf-8') as f:\n",
    "        return json.load(f)\n",
    "\n",
    "save_data('disney_data_cleaned.json', movie_info_list)"
   ]
  },
  {
   "source": [
    "### TASK 3: Clean Our Data\n",
    "##### 1. Convert values to appropriate datatypes\n",
    "        - Running Time, Price(Budget+Box Office), date \n",
    "##### 2. ~~Remove references~~\n",
    "##### 3. ~~Split long list to actual python list~~\n",
    "##### 4. ~~Remove extra date as it is not uniform accross all entries~~\n",
    "\n"
   ],
   "cell_type": "markdown",
   "metadata": {}
  },
  {
   "cell_type": "code",
   "execution_count": 18,
   "metadata": {},
   "outputs": [],
   "source": [
    "# clean up references ([1], [2], [3], ...)\n",
    "# remove extra date\n",
    "# sol: remove by tag, tags containing the ref\n",
    "\n",
    "# def clean_tags(soup):\n",
    "#     for tag in soup.find_all([\"sup\", \"span\"]):\n",
    "#         tag.decompose()\n"
   ]
  },
  {
   "cell_type": "code",
   "execution_count": 29,
   "metadata": {},
   "outputs": [],
   "source": [
    "# split long list to ectual list\n",
    "# sol:\n",
    "\n",
    "# elif row_data.find(\"br\"):\n",
    "#          return [text for text in row_data.stripped_strings]"
   ]
  },
  {
   "cell_type": "code",
   "execution_count": 70,
   "metadata": {},
   "outputs": [
    {
     "output_type": "execute_result",
     "data": {
      "text/plain": [
       "{'title': 'Raya and the Last Dragon',\n",
       " 'Directed by': ['Don Hall', 'Carlos López Estrada'],\n",
       " 'Produced by': ['Osnat Shurer', 'Peter Del Vecho'],\n",
       " 'Written by': ['Qui Nguyen', 'Adele Lim'],\n",
       " 'Starring': ['Kelly Marie Tran', 'Awkwafina'],\n",
       " 'Music by': 'James Newton Howard',\n",
       " 'Production company': ['Walt Disney Pictures',\n",
       "  'Walt Disney Animation Studios'],\n",
       " 'Distributed by': ['Walt Disney Studios', 'Motion Pictures'],\n",
       " 'Release date': ['March 12, 2021'],\n",
       " 'Country': 'United States',\n",
       " 'Language': 'English',\n",
       " 'Running time (int)': None}"
      ]
     },
     "metadata": {},
     "execution_count": 70
    }
   ],
   "source": [
    "def minute_to_integer(running_time):\n",
    "    # try:\n",
    "    if running_time == \"N/A\":\n",
    "        return None\n",
    "\n",
    "    if isinstance(running_time, list):\n",
    "        return  int(str(running_time[0].split(\" \")[0]))\n",
    "    else:\n",
    "        return  int(str(running_time.split(\" \")[0]))\n",
    "    # except ValueError:\n",
    "    #     return None\n",
    "\n",
    "for movie in movie_info_list:\n",
    "    movie['Running time (int)'] = minute_to_integer(movie.get('Running time', \"N/A\"))\n",
    "\n",
    "movie_info_list[-10]\n",
    "# print(minute_to_integer([\"85 minutes\", \"90 minutes\"]))\n",
    "# print(minute_to_integer(\"45 minu\"))\n",
    "# print(minute_to_integer(\" \"))"
   ]
  },
  {
   "cell_type": "code",
   "execution_count": 71,
   "metadata": {},
   "outputs": [
    {
     "output_type": "stream",
     "name": "stdout",
     "text": [
      "[41, 83, 88, 126, 74, 64, 70, 42, 65, 71, 75, 94, 73, 75, 82, 68, 74, 96, 75, 84, 77, 92, 69, 81, 60, 127, 92, 76, 75, 73, 85, 81, 70, 90, 80, 75, 83, 83, 72, 97, 75, 104, 93, 105, 95, 97, 134, 69, 92, 126, 79, 97, 128, 74, 91, 105, 98, 130, 89, 93, 67, 98, 100, 118, 103, 110, 80, 79, 91, 91, 97, 118, 139, 92, 131, 87, 116, 93, 110, 110, 131, 101, 108, 84, 78, 75, 164, 106, 110, 99, 113, 108, 112, 93, 91, 93, 100, 100, 79, 96, 113, 89, 118, 92, 88, 92, 87, 93, 93, 93, 90, 83, 96, 88, 89, 91, 93, 92, 97, 100, 100, 89, 91, 112, 115, 95, 91, 95, 104, 74, 48, 77, 104, 128, 101, 94, 104, 90, 100, 88, 93, 98, 100, 112, 84, 98, 97, 114, 96, 100, 109, 83, 90, 107, 96, 103, 91, 95, 105, 113, 80, 101, 89, 74, 90, 89, 110, 74, 93, 84, 83, 69, 77, 107, 93, 88, 108, 84, 121, 89, 104, 90, 86, 84, 108, 107, 96, 98, 105, 108, 94, 106, 102, 88, 102, 102, 97, 111, 100, 96, 98, 78, 81, 108, 89, 99, 89, 81, 92, 100, 89, 79, 91, 101, 104, 103, 86, 105, 93, 92, 98, 95, 93, 87, 93, 87, 128, 86, 95, 114, 93, 83, 83, 88, 78, 112, 92, 74, 77, 82, 104, 113, 100, 78, 83, 96, 115, 86, 92, 99, 73, 128, 85, 88, 125, 96, 104, 95, 72, 75, 61, 117, 94, 100, 143, 97, 85, 86, 50, 74, 136, 89, 76, 40, 120, 84, 113, 115, 131, 100, 68, 95, 97, 101, 119, 100, 76, 120, 81, 143, 106, 40, 120, 99, 82, 117, 151, 104, 76, 92, 95, 94, 168, 111, 82, 87, 110, 107, 124, 74, 83, 150, 97, 91, 100, 111, 96, 99, 76, 98, 97, 99, 96, None, 90, 101, None, 101, 96, 88, 97, 108, 104, 116, 103, 109, 115, 74, 123, 108, 100, 101, 125, None, 90, 88, 109, 89, 104, 137, 106, 69, 103, 95, 132, 77, 96, 93, 104, 87, 101, 130, 77, 104, 149, 92, 102, 125, 107, 77, 124, 97, 84, 127, 81, 102, 124, 129, 106, 82, 130, 94, 154, 94, 117, 108, 106, 98, 114, 97, 117, 103, 124, 107, 161, 80, 129, 76, 129, 102, None, 162, 105, 109, 118, 104, 99, 112, 131, 112, 76, 128, 100, 118, 119, 104, 100, 103, 114, 99, 102, 107, 78, 89, 95, 160, 85, 100, 95, 115, None, None, None, 100, None, None, None, None, None, None, 77, None, None, None]\n"
     ]
    }
   ],
   "source": [
    "print([movie.get('Running time (int)', 'N/A') for movie in movie_info_list]) "
   ]
  },
  {
   "cell_type": "code",
   "execution_count": 80,
   "metadata": {},
   "outputs": [],
   "source": [
    "'''\n",
    "TODO\n",
    "Given either a string or a list of strings as input, return\n",
    "a number (int or float) which is equal to the monetary value\n",
    "money_conversion(\"$12.2 million\") --> 12200000\n",
    "money_conversion(\"$790,000\") --> 790000\n",
    "use test_money_conversion.py to test your solution\n",
    "'''\n",
    "amount = r\"thousand|million|billion\"\n",
    "number = r\"\\d+(,\\d{3})*\\.*\\d*\"\n",
    "\n",
    "word_re = rf\"\\${number}(-|\\sto\\s)?({number})?\\s({amount})\"\n",
    "value_re = rf\"\\${number}\"\n",
    "\n",
    "def word_to_value(word):\n",
    "    value_dict = {\"thousand\": 1000, \"million\": 1000000, \"billion\": 1000000000}\n",
    "    return value_dict[word]\n",
    "\n",
    "def parse_word_syntax(string):\n",
    "    value_string = re.search(number, string).group()\n",
    "    value = float(value_string.replace(\",\", \"\"))\n",
    "    word = re.search(amount, string, flags=re.I).group().lower()\n",
    "    word_value = word_to_value(word)\n",
    "    return value*word_value \n",
    "\n",
    "def parse_value_syntax(string):\n",
    "    value_string = re.search(number, string).group()\n",
    "    value = float(value_string.replace(\",\", \"\"))\n",
    "    return value\n",
    "\n",
    "def money_conversion(money):\n",
    "    if money == \"N/A\":\n",
    "        return None\n",
    "\n",
    "    if isinstance(money, list):\n",
    "        money= money[0]\n",
    "\n",
    "    word_syntax = re.search(word_re, money, flags=re.I)\n",
    "    value_syntax = re.search(value_re, money)\n",
    "\n",
    "    if word_syntax:\n",
    "        return parse_word_syntax(word_syntax.group())\n",
    "    elif value_syntax:\n",
    "        return parse_value_syntax(value_syntax.group())\n",
    "    else:\n",
    "        return None\n",
    "\n",
    "\n",
    "# print(re.search(word_re, \"$12.2 million\").group())\n",
    "# print(money_conversion(\"$12 Million\"))"
   ]
  },
  {
   "cell_type": "code",
   "execution_count": 84,
   "metadata": {},
   "outputs": [
    {
     "output_type": "execute_result",
     "data": {
      "text/plain": [
       "{'title': 'Incredibles 2',\n",
       " 'Directed by': 'Brad Bird',\n",
       " 'Produced by': ['John Walker', 'Nicole Paradis Grindle'],\n",
       " 'Written by': 'Brad Bird',\n",
       " 'Starring': ['Craig T. Nelson',\n",
       "  'Holly Hunter',\n",
       "  'Sarah Vowell',\n",
       "  'Huckleberry Milner',\n",
       "  'Samuel L. Jackson'],\n",
       " 'Music by': 'Michael Giacchino',\n",
       " 'Cinematography': ['Mahyar Abousaeedi (camera)', 'Erik Smitt (lighting)'],\n",
       " 'Edited by': 'Stephen Schaffer',\n",
       " 'Production companies': ['Walt Disney Pictures', 'Pixar Animation Studios'],\n",
       " 'Distributed by': ['Walt Disney Studios', 'Motion Pictures'],\n",
       " 'Release date': ['June 5, 2018 ( Los Angeles )',\n",
       "  'June 15, 2018 (United States)'],\n",
       " 'Running time': '118 minutes',\n",
       " 'Country': 'United States',\n",
       " 'Language': 'English',\n",
       " 'Budget': '$200 million',\n",
       " 'Box office': '$1.243 billion',\n",
       " 'Running time (int)': 118,\n",
       " 'Budget (float)': 200000000.0,\n",
       " 'Box office (float)': 1243000000.0}"
      ]
     },
     "metadata": {},
     "execution_count": 84
    }
   ],
   "source": [
    "for movie in movie_info_list:\n",
    "    movie['Budget (float)'] = money_conversion(movie.get('Budget', \"N/A\"))\n",
    "    movie['Box office (float)'] = money_conversion(movie.get('Box office', \"N/A\"))\n",
    "\n",
    "money_conversion(str(movie_info_list[-40]['Budget']))\n",
    "movie_info_list[-40]"
   ]
  },
  {
   "cell_type": "code",
   "execution_count": 87,
   "metadata": {},
   "outputs": [
    {
     "output_type": "stream",
     "name": "stdout",
     "text": [
      "May 19, 1937\nDecember 21, 1937\nFebruary 7, 1940\nNovember 13, 1940\nJune 20, 1941\nOctober 23, 1941\nAugust 9, 1942\nAugust 24, 1942\nJuly 17, 1943\nDecember 21, 1944\nApril 20, 1946\nNovember 12, 1946\nSeptember 27, 1947\nMay 27, 1948\nNovember 29, 1948\nOctober 5, 1949\nFebruary 15, 1950\nJune 22, 1950\nJuly 26, 1951\nMarch 13, 1952\nFebruary 5, 1953\nAugust 8, 1953\nNovember 10, 1953\n26 October 1953\nAugust 17, 1954\nDecember 23, 1954\nMay 25, 1955\nJune 22, 1955\nSeptember 14, 1955\nDecember 22, 1955\nJune 8, 1956\nJuly 18, 1956\nNovember 6, 1956\nDecember 20, 1956\nJune 19, 1957\nAugust 28, 1957\nDecember 25, 1957\nJuly 9, 1958\nAugust 12, 1958\nDecember 25, 1958\nJanuary 29, 1959\nMarch 19, 1959\nJune 24, 1959\nNovember 10, 1959\nJanuary 21, 1960\nFebruary 24, 1960\nMay 19, 1960\nAugust 10, 1960\nNovember 1, 1960\nDecember 21, 1960\nJanuary 25, 1961\nMarch 16, 1961\nJune 21, 1961\nJuly 12, 1961\nJuly 17, 1961\nDecember 14, 1961\nApril 5, 1962\nMay 17, 1962\nJune 6, 1962\nSeptember 26, 1962\nNovember 7, 1962\nNovember 14, 1962\nJanuary 16, 1963\nMarch 29, 1963\nJune 1, 1963\nJuly 7, 1963\nNovember 20, 1963\nDecember 25, 1963\nMarch 12, 1964\nFebruary 11, 1964\n11 December 1963\nJuly 2, 1964\nAugust 27, 1964\nDecember 18, 1964\nJanuary 28, 1965\nAugust 18, 1965\nDecember 2, 1965\nFebruary 4, 1966\nJune 25, 1966\nOctober 1, 1966\nDecember 1, 1966\nFebruary 8, 1967\nMarch 8, 1967\nJuly 12, 1967\nOctober 18, 1967\nOctober 18, 1967\nJune 23, 1967\nFebruary 8, 1968\nMarch 21, 1968\nJune 26, 1968\nDecember 20, 1968\nDecember 24, 1968\nMarch 21, 1969\nJune 11, 1969\nDecember 31, 1969\nFebruary 11, 1970\nJuly 1, 1970\nDecember 15, 1970\nDecember 11, 1970\nMarch 17, 1971\nJune 22, 1971\nJune 30, 1971\nOctober 7, 1971\nMarch 22, 1972\nJuly 12, 1972\nJuly 5, 1972\nOctober 18, 1972\nDecember 22, 1972\nFebruary 1, 1973\nMarch 23, 1973\nJune 20, 1973\nNovember 8, 1973\nDecember 14, 1973\nJune 6, 1974\nJuly 31, 1974\nAugust 1, 1974\nDecember 20, 1974\nFebruary 6, 1975\nMarch 21, 1975\nJuly 24, 1975\nJuly 9, 1975\nOctober 8, 1975\nDecember 25, 1975\nFebruary 11, 1976\nJuly 1, 1976\nJuly 7, 1976\nDecember 17, 1976\nDecember 17, 1976\nMay 26, 1976\nMarch 11, 1977\nJune 22, 1977\nJune 22, 1977\nJune 24, 1977\nNovember 3, 1977\nDecember 16, 1977\nMarch 10, 1978\nJune 30, 1978\nJuly 5, 1978\nFebruary 9, 1979\nJune 27, 1979\nJuly 19, 1979\nDecember 18, 1979\nDecember 21, 1979\nFebruary 8, 1980\nApril 17, 1980\nJune 27, 1980\nJuly 9, 1980\nDecember 6, 1980\nFebruary 11, 1981\nMarch 20, 1981\nJune 26, 1981\nJuly 10, 1981\nAugust 7, 1981\nFebruary 5, 1982\nJuly 9, 1982\nJuly 30, 1982\nMarch 11, 1983\nApril 29, 1983\nOctober 7, 1983\nJune 21, 1985\nJuly 26, 1985\nSeptember 27, 1985\nNovember 22, 1985\nJuly 2, 1986\nAugust 1, 1986\nJune 5, 1987\n24 March 1988\nNovember 18, 1988\nJune 23, 1989\nAugust 18, 1989\nNovember 17, 1989\nAugust 3, 1990\nNovember 16, 1990\nJanuary 18, 1991\n3 October 1990\nMay 24, 1991\nJune 21, 1991\nSeptember 29, 1991\nApril 10, 1992\nJuly 17, 1992\nOctober 2, 1992\nNovember 25, 1992\nDecember 11, 1992\nFebruary 3, 1993\nMarch 12, 1993\nApril 2, 1993\nJuly 16, 1993\nOctober 1, 1993\nNovember 12, 1993\nJanuary 14, 1994\nFebruary 11, 1994\nMarch 25, 1994\nApril 15, 1994\nJune 15, 1994\nJuly 15, 1994\nOctober 28, 1994\nNovember 11, 1994\nDecember 25, 1994\nFebruary 17, 1995\nMarch 3, 1995\nMarch 24, 1995\nApril 7, 1995\nJune 23, 1995\nJuly 28, 1995\nAugust 11, 1995\nSeptember 29, 1995\nJanuary 22, 1995\nNovember 19, 1995\nDecember 22, 1995\nFebruary 16, 1996\nMarch 8, 1996\nApril 12, 1996\nJune 21, 1996\nAugust 30, 1996\nOctober 4, 1996\nNovember 27, 1996\nFebruary 14, 1997\nMarch 7, 1997\nJune 13, 1997\nJuly 16, 1997\nAugust 1, 1997\nOctober 10, 1997\nNovember 16, 1997\nDecember 25, 1997\nMarch 27, 1998\nJune 19, 1998\nJuly 29, 1998\nNovember 13, 1998\nNovember 20, 1998\nDecember 25, 1998\nFebruary 12, 1999\nMarch 26, 1999\nFebruary 5, 1999\nJune 12, 1999\nJuly 23, 1999\nMay 1999\nNovember 13, 1999\nDecember 17, 1999\nFebruary 11, 2000\nMay 19, 2000\nJuly 7, 2000\nSeptember 29, 2000\nNovember 22, 2000\nDecember 15, 2000\nFebruary 10, 2001\nJune 3, 2001\nAugust 3, 2001\nOctober 5, 2001\nOctober 28, 2001\nJanuary 18, 2002\nFebruary 10, 2002\nMarch 29, 2002\nJune 21, 2002\nJuly 21, 2002\nJuly 20, 2001\nOctober 11, 2002\nNovember 1, 2002\nNovember 27, 2002\nFebruary 14, 2003\nMarch 16, 2003\nMarch 31, 2003\nApril 18, 2003\nMay 2, 2003\nMay 30, 2003\nJune 28, 2003\nAugust 4, 2003\nNovember 1, 2003\nNovember 26, 2003\nDecember 25, 2003\nJanuary 16, 2004\nFebruary 6, 2004\nFebruary 20, 2004\nApril 2, 2004\nApril 22, 2004\nJune 13, 2004\nJuly 2, 2004\nAugust 11, 2004\nOctober 27, 2004\nNovember 19, 2004\nJanuary 28, 2005\nFebruary 11, 2005\nMarch 4, 2005\nMarch 18, 2005\nJune 22, 2005\n5 September 2004\nJuly 29, 2005\nMarch 25, 2005\nSeptember 30, 2005\nOctober 30, 2005\nDecember 7, 2005\nJanuary 13, 2006\nJanuary 27, 2006\nFebruary 17, 2006\nMarch 10, 2006\nApril 14, 2006\nMay 26, 2006\nJune 24, 2006\nAugust 25, 2006\nOctober 29, 1993\nNovember 3, 2006\nFebruary 16, 2007\nMarch 23, 2007\nMay 19, 2007\nJune 22, 2007\nAugust 3, 2007\nAugust 28, 2007\nSeptember 23, 2007\nOctober 20, 2007\nDecember 21, 2007\nFebruary 1, 2008\nMarch 7, 2008\nMay 7, 2008\nJune 23, 2008\nOctober 3, 2008\nOctober 17, 2008\nOctober 17, 2008\nNovember 21, 2008\nDecember 25, 2008\nFebruary 27, 2009\nMarch 11, 2009\nApril 10, 2009\nOctober 10, 2007\nMay 29, 2009\nN/A\nJuly 24, 2009\nJuly 19, 2008\n2008\n2009\nNovember 3, 2009\nNovember 25, 2009\nNovember 25, 2009\nFebruary 25, 2010\nOctober 17, 2009\nMay 9, 2010\nJune 12, 2010\nJuly 8, 2010\nJuly 29, 2006\n26 October 2008\nSeptember 30, 2010\n8 October 2010\nNovember 14, 2010\nApril 24, 2009\nNovember 30, 2010\n14 January 2011\n17 February 2011\nMarch 11, 2011\n22 April 2011\nApril 22, 2011\nApril 29, 2011\nMay 7, 2011\nJune 18, 2011\nApril 6, 2011\nNovember 4, 2011\n17 July 2010\nFebruary 22, 2012\nApril 20, 2012\n25 May 2012\nJune 10, 2012\nAugust 15, 2012\nSeptember 20, 2012\nOctober 29, 2012\nFebruary 14, 2013\n16 March 2011\nJune 5, 2013\nJune 22, 2013\nAugust 2, 2013\nNovember 19, 2013\nOctober 20, 2013\nMarch 11, 2014\nApril 18, 2014\nMay 6, 2014\nMay 28, 2014\nJuly 15, 2014\n19 September 2014\nOctober 6, 2014\nOctober 23, 2014\nDecember 8, 2014\nFebruary 9, 2015\nFebruary 13, 2015\nApril 17, 2015\nMay 9, 2015\nMay 18, 2015\n19 June 2015\nNovember 10, 2015\nJanuary 25, 2016\nFebruary 13, 2016\nApril 4, 2016\nApril 23, 2016\nMay 10, 2016\nJune 8, 2016\nMay 14, 2016\nAugust 8, 2016\nSeptember 10, 2016\nNovember 14, 2016\n21 December 2016\n26 January 2005\nFebruary 23, 2017\nAugust 12, 2016\nMay 11, 2017\nMay 23, 2017\nJune 30, 2017\n14 July 2017\nOctober 20, 2017\nFebruary 26, 2018\nJune 5, 2018\nJuly 30, 2018\nOctober 29, 2018\nNovember 5, 2018\nNovember 29, 2018\nMarch 11, 2019\nApril 17, 2019\nMay 8, 2019\nJune 11, 2019\nJuly 9, 2019\nOctober 18, 2019\nNovember 12, 2019\nNovember 12, 2019\nNovember 7, 2019\nDecember 20, 2019\nJanuary 25, 2020\nFebruary 21, 2020\nMarch 13, 2020\nMarch 28, 2018\nApril 3, 2020\nJune 12, 2020\nJuly 3, 2020\nJuly 31, 2020\nAugust 14, 2020\nAugust 21, 2020\nMarch 9, 2020\nNovember 27, 2020\nDecember 4, 2020\nDecember 11, 2020\nOctober 11, 2020\nMarch 12, 2021\nMay 28, 2021\nJune 18, 2021\nJuly 30, 2021\n27 August 2021\nN/A\nFebruary 5, 1953\nN/A\nN/A\nN/A\n"
     ]
    }
   ],
   "source": [
    "# convert date to date time objects\n",
    "dates = [movie.get('Release date', 'N/A') for movie in movie_info_list]\n",
    "\n",
    "def clean_date(date):\n",
    "    return date.split(\"(\")[0].strip()\n",
    "\n",
    "def date_conversion(date):\n",
    "    if isinstance(date, list):\n",
    "        date = date[0]\n",
    "\n",
    "    date_str = clean_date(date)\n",
    "    print(date_str)\n",
    "\n",
    "for date in dates:\n",
    "    date_conversion(date)\n",
    "\n",
    "\n",
    "\n",
    "\n",
    "\n",
    "\n",
    "\n",
    "\n"
   ]
  }
 ]
}