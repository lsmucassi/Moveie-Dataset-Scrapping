{
 "metadata": {
  "language_info": {
   "codemirror_mode": {
    "name": "ipython",
    "version": 3
   },
   "file_extension": ".py",
   "mimetype": "text/x-python",
   "name": "python",
   "nbconvert_exporter": "python",
   "pygments_lexer": "ipython3",
   "version": "3.8.3-final"
  },
  "orig_nbformat": 2,
  "kernelspec": {
   "name": "python3",
   "display_name": "Python 3"
  }
 },
 "nbformat": 4,
 "nbformat_minor": 2,
 "cells": [
  {
   "source": [
    "# MOVIE DATASET CREATION\n"
   ],
   "cell_type": "markdown",
   "metadata": {}
  },
  {
   "cell_type": "code",
   "execution_count": 166,
   "metadata": {},
   "outputs": [],
   "source": [
    "# all imports here\n",
    "from bs4 import BeautifulSoup as bs\n",
    "from datetime import datetime\n",
    "import requests\n",
    "\n",
    "import pandas as pd\n",
    "import urllib\n",
    "import requests\n",
    "import pickle\n",
    "import re\n",
    "import json"
   ]
  },
  {
   "source": [
    "### TASK 1: Get info Box from wikipedia(for one movie) - store in a python dictionary"
   ],
   "cell_type": "markdown",
   "metadata": {}
  },
  {
   "cell_type": "code",
   "execution_count": 167,
   "metadata": {
    "tags": []
   },
   "outputs": [],
   "source": [
    "r = requests.get(\"https://en.wikipedia.org/wiki/Toy_Story_3\")\n",
    "\n",
    "# convert to a beautiful soup object\n",
    "soup = bs(r.content)\n",
    "\n",
    "contents = soup.prettify()\n",
    "# print(contents)"
   ]
  },
  {
   "cell_type": "code",
   "execution_count": 168,
   "metadata": {},
   "outputs": [
    {
     "output_type": "stream",
     "name": "stdout",
     "text": [
      "<tr>\n <th class=\"summary\" colspan=\"2\" style=\"text-align:center;font-size:125%;font-weight:bold;font-size:110%;font-style:italic;\">\n  Toy Story 3\n </th>\n</tr>\n\n<tr>\n <td colspan=\"2\" style=\"text-align:center\">\n  <a class=\"image\" href=\"/wiki/File:Toy_Story_3_poster.jpg\" title=\"All of the toys packed close together, holding up a large numeral '3', with Buzz, who is putting a friendly arm around Woody's shoulder, and Woody holding the top of the 3.\">\n   <img alt=\"All of the toys packed close together, holding up a large numeral '3', with Buzz, who is putting a friendly arm around Woody's shoulder, and Woody holding the top of the 3.\" class=\"thumbborder\" data-file-height=\"326\" data-file-width=\"220\" decoding=\"async\" height=\"326\" src=\"//upload.wikimedia.org/wikipedia/en/6/69/Toy_Story_3_poster.jpg\" width=\"220\"/>\n  </a>\n  <div style=\"font-size:95%;padding:0.35em 0.35em 0.25em;line-height:1.25em;\">\n   Theatrical release poster\n  </div>\n </td>\n</tr>\n\n<tr>\n <th scope=\"row\" style=\"white-space:nowrap;padding-right:0.65em;\">\n  Directed by\n </th>\n <td>\n  <a href=\"/wiki/Lee_Unkrich\" title=\"Lee Unkrich\">\n   Lee Unkrich\n  </a>\n </td>\n</tr>\n\n<tr>\n <th scope=\"row\" style=\"white-space:nowrap;padding-right:0.65em;\">\n  Produced by\n </th>\n <td>\n  <a href=\"/wiki/Darla_K._Anderson\" title=\"Darla K. Anderson\">\n   Darla K. Anderson\n  </a>\n </td>\n</tr>\n\n<tr>\n <th scope=\"row\" style=\"white-space:nowrap;padding-right:0.65em;\">\n  Screenplay by\n </th>\n <td>\n  <a href=\"/wiki/Michael_Arndt\" title=\"Michael Arndt\">\n   Michael Arndt\n  </a>\n </td>\n</tr>\n\n<tr>\n <th scope=\"row\" style=\"white-space:nowrap;padding-right:0.65em;\">\n  Story by\n </th>\n <td>\n  <div class=\"plainlist\">\n   <ul>\n    <li>\n     <a href=\"/wiki/John_Lasseter\" title=\"John Lasseter\">\n      John Lasseter\n     </a>\n    </li>\n    <li>\n     <a href=\"/wiki/Andrew_Stanton\" title=\"Andrew Stanton\">\n      Andrew Stanton\n     </a>\n    </li>\n    <li>\n     Lee Unkrich\n    </li>\n   </ul>\n  </div>\n </td>\n</tr>\n\n<tr>\n <th scope=\"row\" style=\"white-space:nowrap;padding-right:0.65em;\">\n  Starring\n </th>\n <td>\n  <div class=\"plainlist\">\n   <ul>\n    <li>\n     <a href=\"/wiki/Tom_Hanks\" title=\"Tom Hanks\">\n      Tom Hanks\n     </a>\n    </li>\n    <li>\n     <a href=\"/wiki/Tim_Allen\" title=\"Tim Allen\">\n      Tim Allen\n     </a>\n    </li>\n    <li>\n     <a href=\"/wiki/Joan_Cusack\" title=\"Joan Cusack\">\n      Joan Cusack\n     </a>\n    </li>\n    <li>\n     <a href=\"/wiki/Don_Rickles\" title=\"Don Rickles\">\n      Don Rickles\n     </a>\n    </li>\n    <li>\n     <a href=\"/wiki/Wallace_Shawn\" title=\"Wallace Shawn\">\n      Wallace Shawn\n     </a>\n    </li>\n    <li>\n     <a href=\"/wiki/John_Ratzenberger\" title=\"John Ratzenberger\">\n      John Ratzenberger\n     </a>\n    </li>\n    <li>\n     <a href=\"/wiki/Estelle_Harris\" title=\"Estelle Harris\">\n      Estelle Harris\n     </a>\n    </li>\n    <li>\n     <a href=\"/wiki/Blake_Clark\" title=\"Blake Clark\">\n      Blake Clark\n     </a>\n    </li>\n    <li>\n     <a href=\"/wiki/Jeff_Pidgeon\" title=\"Jeff Pidgeon\">\n      Jeff Pidgeon\n     </a>\n    </li>\n    <li>\n     <a href=\"/wiki/Ned_Beatty\" title=\"Ned Beatty\">\n      Ned Beatty\n     </a>\n    </li>\n    <li>\n     <a href=\"/wiki/Michael_Keaton\" title=\"Michael Keaton\">\n      Michael Keaton\n     </a>\n    </li>\n    <li>\n     <a href=\"/wiki/Jodi_Benson\" title=\"Jodi Benson\">\n      Jodi Benson\n     </a>\n    </li>\n    <li>\n     <a href=\"/wiki/John_Morris_(actor)\" title=\"John Morris (actor)\">\n      John Morris\n     </a>\n    </li>\n   </ul>\n  </div>\n </td>\n</tr>\n\n<tr>\n <th scope=\"row\" style=\"white-space:nowrap;padding-right:0.65em;\">\n  Music by\n </th>\n <td>\n  <a href=\"/wiki/Randy_Newman\" title=\"Randy Newman\">\n   Randy Newman\n  </a>\n </td>\n</tr>\n\n<tr>\n <th scope=\"row\" style=\"white-space:nowrap;padding-right:0.65em;\">\n  Cinematography\n </th>\n <td>\n  <div class=\"plainlist\">\n   <ul>\n    <li>\n     Jeremy Lasky\n    </li>\n    <li>\n     Kim White\n    </li>\n   </ul>\n  </div>\n </td>\n</tr>\n\n<tr>\n <th scope=\"row\" style=\"white-space:nowrap;padding-right:0.65em;\">\n  Edited by\n </th>\n <td>\n  <a href=\"/wiki/Ken_Schretzmann\" title=\"Ken Schretzmann\">\n   Ken Schretzmann\n  </a>\n </td>\n</tr>\n\n<tr>\n <th scope=\"row\" style=\"white-space:nowrap;padding-right:0.65em;\">\n  <div style=\"display:inline-block; padding:0.1em 0;line-height:1.2em;\">\n   Production\n   <br/>\n   company\n  </div>\n </th>\n <td>\n  <div style=\"vertical-align:middle;\">\n   <div class=\"plainlist\">\n    <ul>\n     <li>\n      <a href=\"/wiki/Walt_Disney_Pictures\" title=\"Walt Disney Pictures\">\n       Walt Disney Pictures\n      </a>\n     </li>\n     <li>\n      <a class=\"mw-redirect\" href=\"/wiki/Pixar_Animation_Studios\" title=\"Pixar Animation Studios\">\n       Pixar Animation Studios\n      </a>\n     </li>\n    </ul>\n   </div>\n  </div>\n </td>\n</tr>\n\n<tr>\n <th scope=\"row\" style=\"white-space:nowrap;padding-right:0.65em;\">\n  Distributed by\n </th>\n <td>\n  <a href=\"/wiki/Walt_Disney_Studios_Motion_Pictures\" title=\"Walt Disney Studios Motion Pictures\">\n   Walt Disney Studios\n   <br/>\n   Motion Pictures\n  </a>\n </td>\n</tr>\n\n<tr>\n <th scope=\"row\" style=\"white-space:nowrap;padding-right:0.65em;\">\n  <div style=\"display:inline-block; padding:0.1em 0;line-height:1.2em;white-space:normal;\">\n   Release date\n  </div>\n </th>\n <td>\n  <div class=\"plainlist\">\n   <ul>\n    <li>\n     June 12, 2010\n     <span style=\"display:none\">\n      (\n      <span class=\"bday dtstart published updated\">\n       2010-06-12\n      </span>\n      )\n     </span>\n     (\n     <a href=\"/wiki/Taormina_Film_Fest\" title=\"Taormina Film Fest\">\n      Taormina Film Fest\n     </a>\n     )\n    </li>\n    <li>\n     June 18, 2010\n     <span style=\"display:none\">\n      (\n      <span class=\"bday dtstart published updated\">\n       2010-06-18\n      </span>\n      )\n     </span>\n     (United States)\n    </li>\n   </ul>\n  </div>\n </td>\n</tr>\n\n<tr>\n <th scope=\"row\" style=\"white-space:nowrap;padding-right:0.65em;\">\n  <div style=\"display:inline-block; padding:0.1em 0;line-height:1.2em;white-space:normal;\">\n   Running time\n  </div>\n </th>\n <td>\n  103 minutes\n  <sup class=\"reference\" id=\"cite_ref-mojo1_1-0\">\n   <a href=\"#cite_note-mojo1-1\">\n    [1]\n   </a>\n  </sup>\n </td>\n</tr>\n\n<tr>\n <th scope=\"row\" style=\"white-space:nowrap;padding-right:0.65em;\">\n  Country\n </th>\n <td>\n  United States\n </td>\n</tr>\n\n<tr>\n <th scope=\"row\" style=\"white-space:nowrap;padding-right:0.65em;\">\n  Language\n </th>\n <td>\n  English\n </td>\n</tr>\n\n<tr>\n <th scope=\"row\" style=\"white-space:nowrap;padding-right:0.65em;\">\n  Budget\n </th>\n <td>\n  $200 million\n  <sup class=\"reference\" id=\"cite_ref-mojo1_1-1\">\n   <a href=\"#cite_note-mojo1-1\">\n    [1]\n   </a>\n  </sup>\n </td>\n</tr>\n\n<tr>\n <th scope=\"row\" style=\"white-space:nowrap;padding-right:0.65em;\">\n  Box office\n </th>\n <td>\n  $1.067 billion\n  <sup class=\"reference\" id=\"cite_ref-mojo1_1-2\">\n   <a href=\"#cite_note-mojo1-1\">\n    [1]\n   </a>\n  </sup>\n </td>\n</tr>\n"
     ]
    }
   ],
   "source": [
    "info_box = soup.find(class_=\"infobox vevent\")\n",
    "# print(info_box.prettify())\n",
    "\n",
    "info_rows = info_box.find_all(\"tr\")\n",
    "for row in info_rows:\n",
    "    print(row.prettify())"
   ]
  },
  {
   "cell_type": "code",
   "execution_count": 169,
   "metadata": {},
   "outputs": [],
   "source": [
    "# (\" \", strip=True) joines results with a space and removes extra spaces\n",
    "\n",
    "def get_content_value(row_data):\n",
    "    if row_data.find(\"li\"):\n",
    "        return [li.get_text(\" \", strip=True).replace(\"\\xa0\", \" \") for li in row_data.find_all(\"li\")]\n",
    "    else:\n",
    "        return row_data.get_text(\" \", strip=True)\n",
    "\n",
    "movie_info = {}\n",
    "\n",
    "for index, row in enumerate(info_rows):\n",
    "    if index == 0:\n",
    "        movie_info['title'] = row.find(\"th\").get_text(\" \", strip=True)\n",
    "    elif index == 1:\n",
    "        continue\n",
    "    else:\n",
    "        content_key = row.find(\"th\").get_text(\" \", strip=True)\n",
    "        content_value = get_content_value(row.find(\"td\"))\n",
    "        movie_info[content_key] = content_value\n",
    "\n",
    "# print(movie_info)\n",
    "# movie_info\n",
    "\n"
   ]
  },
  {
   "source": [
    "### TASK 2: Get all info box for all movies"
   ],
   "cell_type": "markdown",
   "metadata": {}
  },
  {
   "cell_type": "code",
   "execution_count": 170,
   "metadata": {
    "tags": []
   },
   "outputs": [],
   "source": [
    "r = requests.get(\"https://en.wikipedia.org/wiki/List_of_Walt_Disney_Pictures_films\")\n",
    "\n",
    "# convert to a beautiful soup object\n",
    "soup = bs(r.content)\n",
    "\n",
    "contents = soup.prettify()\n",
    "# print(contents)"
   ]
  },
  {
   "cell_type": "code",
   "execution_count": 171,
   "metadata": {},
   "outputs": [],
   "source": [
    "movies = soup.select(\".wikitable.sortable i\")\n",
    "\n",
    "def get_content_value(row_data):\n",
    "    if row_data.find(\"li\"):\n",
    "        return [li.get_text(\" \", strip=True).replace(\"\\xa0\", \" \") for li in row_data.find_all(\"li\")]\n",
    "    elif row_data.find(\"br\"):\n",
    "         return [text for text in row_data.stripped_strings]\n",
    "    else:\n",
    "        return row_data.get_text(\" \", strip=True).replace(\"\\xa0\", \" \")\n",
    "# movies[0].a['href']\n",
    "# movies\n",
    "\n",
    "def clean_tags(soup):\n",
    "    for tag in soup.find_all([\"sup\", \"span\"]):\n",
    "        tag.decompose()\n",
    "\n",
    "def get_info_box(url):\n",
    "    r = requests.get(url)\n",
    "    soup = bs(r.content)\n",
    "    info_box = soup.find(class_=\"infobox vevent\")\n",
    "    info_rows = info_box.find_all(\"tr\")\n",
    "\n",
    "    clean_tags(soup)\n",
    "    movie_info = {}\n",
    "\n",
    "    for index, row in enumerate(info_rows):\n",
    "        if index == 0:\n",
    "            movie_info['title'] = row.find(\"th\").get_text(\" \", strip=True)\n",
    "        else:\n",
    "            header = row.find('th')\n",
    "            if header:\n",
    "                content_key = row.find(\"th\").get_text(\" \", strip=True)\n",
    "                content_value = get_content_value(row.find(\"td\"))\n",
    "                movie_info[content_key] = content_value\n",
    "\n",
    "    return movie_info\n"
   ]
  },
  {
   "cell_type": "code",
   "execution_count": 172,
   "metadata": {},
   "outputs": [
    {
     "output_type": "execute_result",
     "data": {
      "text/plain": [
       "{'title': 'The Great Locomotive Chase',\n",
       " 'Directed by': 'Francis D. Lyon',\n",
       " 'Produced by': ['Lawrence Edward Watkin', 'Walt Disney'],\n",
       " 'Written by': 'Lawrence Edward Watkin',\n",
       " 'Starring': ['Fess Parker',\n",
       "  'Jeffrey Hunter',\n",
       "  'John Lupton',\n",
       "  'Jeff York',\n",
       "  'Slim Pickens'],\n",
       " 'Music by': 'Paul J. Smith',\n",
       " 'Cinematography': 'Charles Boyle',\n",
       " 'Edited by': 'Ellsworth Hoagland',\n",
       " 'Production company': 'Walt Disney Productions',\n",
       " 'Distributed by': 'Buena Vista Distribution',\n",
       " 'Release date': 'June 8, 1956',\n",
       " 'Running time': '85 minutes',\n",
       " 'Country': 'United States',\n",
       " 'Language': 'English',\n",
       " 'Box office': '$1.7 million (US)'}"
      ]
     },
     "metadata": {},
     "execution_count": 172
    }
   ],
   "source": [
    "get_info_box(\"https://en.wikipedia.org/wiki/The_Great_Locomotive_Chase\")"
   ]
  },
  {
   "cell_type": "code",
   "execution_count": 173,
   "metadata": {
    "tags": []
   },
   "outputs": [
    {
     "output_type": "stream",
     "name": "stdout",
     "text": [
      "Zorro the Avenger\n",
      "'NoneType' object has no attribute 'find'\n",
      "The Sign of Zorro\n",
      "'NoneType' object has no attribute 'find'\n",
      "True-Life Adventures\n",
      "'NoneType' object has no attribute 'find_all'\n"
     ]
    }
   ],
   "source": [
    "r = requests.get(\"https://en.wikipedia.org/wiki/List_of_Walt_Disney_Pictures_films\")\n",
    "# convert to a beautiful soup object\n",
    "soup = bs(r.content)\n",
    "movies = soup.select(\".wikitable.sortable i a\")\n",
    "# print(len(movies))\n",
    "\n",
    "base_path = \"https://en.wikipedia.org/\"\n",
    "movie_info_list = []\n",
    "\n",
    "for index, movie in enumerate(movies):\n",
    "    # if index % 10 == 0:\n",
    "    #     print(index)\n",
    "    try:\n",
    "        full_path = base_path + movie['href']\n",
    "        title = movie['title']\n",
    "\n",
    "        # print(relative_path, title, sep=\"\\n\")\n",
    "        # print()\n",
    "        movie_info_list.append(get_info_box(full_path))\n",
    "    except Exception as e:\n",
    "        print(movie.get_text())\n",
    "        print(e)\n",
    "\n",
    "\n"
   ]
  },
  {
   "cell_type": "code",
   "execution_count": 174,
   "metadata": {},
   "outputs": [],
   "source": [
    "# print(len(movie_info_list))\n",
    "\n",
    "# save the dictionary data as a json\n",
    "def save_data(title, data):\n",
    "    with open(title, 'w', encoding='utf-8') as f:\n",
    "        json.dump(data, f, ensure_ascii=False, indent=2)\n",
    "\n",
    "def load_data(title):\n",
    "    with open(title, encoding='utf-8') as f:\n",
    "        return json.load(f)\n",
    "\n",
    "save_data('disney_data_cleaned.json', movie_info_list)"
   ]
  },
  {
   "source": [
    "### TASK 3: Clean Our Data\n",
    "##### 1. Convert values to appropriate datatypes\n",
    "        - Running Time, Price(Budget+Box Office), date \n",
    "##### 2. ~~Remove references~~\n",
    "##### 3. ~~Split long list to actual python list~~\n",
    "##### 4. ~~Remove extra date as it is not uniform accross all entries~~\n",
    "\n"
   ],
   "cell_type": "markdown",
   "metadata": {}
  },
  {
   "cell_type": "code",
   "execution_count": 175,
   "metadata": {},
   "outputs": [],
   "source": [
    "# clean up references ([1], [2], [3], ...)\n",
    "# remove extra date\n",
    "# sol: remove by tag, tags containing the ref\n",
    "\n",
    "# def clean_tags(soup):\n",
    "#     for tag in soup.find_all([\"sup\", \"span\"]):\n",
    "#         tag.decompose()\n"
   ]
  },
  {
   "cell_type": "code",
   "execution_count": 176,
   "metadata": {},
   "outputs": [],
   "source": [
    "# split long list to ectual list\n",
    "# sol:\n",
    "\n",
    "# elif row_data.find(\"br\"):\n",
    "#          return [text for text in row_data.stripped_strings]"
   ]
  },
  {
   "cell_type": "code",
   "execution_count": 177,
   "metadata": {},
   "outputs": [
    {
     "output_type": "execute_result",
     "data": {
      "text/plain": [
       "{'title': 'Raya and the Last Dragon',\n",
       " 'Directed by': ['Don Hall', 'Carlos López Estrada'],\n",
       " 'Produced by': ['Osnat Shurer', 'Peter Del Vecho'],\n",
       " 'Written by': ['Qui Nguyen', 'Adele Lim'],\n",
       " 'Starring': ['Kelly Marie Tran', 'Awkwafina'],\n",
       " 'Music by': 'James Newton Howard',\n",
       " 'Production company': ['Walt Disney Pictures',\n",
       "  'Walt Disney Animation Studios'],\n",
       " 'Distributed by': ['Walt Disney Studios', 'Motion Pictures'],\n",
       " 'Release date': ['March 12, 2021'],\n",
       " 'Country': 'United States',\n",
       " 'Language': 'English',\n",
       " 'Running time (int)': None}"
      ]
     },
     "metadata": {},
     "execution_count": 177
    }
   ],
   "source": [
    "def minute_to_integer(running_time):\n",
    "    # try:\n",
    "    if running_time == \"N/A\":\n",
    "        return None\n",
    "\n",
    "    if isinstance(running_time, list):\n",
    "        return  int(str(running_time[0].split(\" \")[0]))\n",
    "    else:\n",
    "        return  int(str(running_time.split(\" \")[0]))\n",
    "    # except ValueError:\n",
    "    #     return None\n",
    "\n",
    "for movie in movie_info_list:\n",
    "    movie['Running time (int)'] = minute_to_integer(movie.get('Running time', \"N/A\"))\n",
    "\n",
    "movie_info_list[-10]\n",
    "# print(minute_to_integer([\"85 minutes\", \"90 minutes\"]))\n",
    "# print(minute_to_integer(\"45 minu\"))\n",
    "# print(minute_to_integer(\" \"))"
   ]
  },
  {
   "cell_type": "code",
   "execution_count": 178,
   "metadata": {},
   "outputs": [
    {
     "output_type": "stream",
     "name": "stdout",
     "text": [
      "[41, 83, 88, 126, 74, 64, 70, 42, 65, 71, 75, 94, 73, 75, 82, 68, 74, 96, 75, 84, 77, 92, 69, 81, 60, 127, 92, 76, 75, 73, 85, 81, 70, 90, 80, 75, 83, 83, 72, 97, 75, 104, 93, 105, 95, 97, 134, 69, 92, 126, 79, 97, 128, 74, 91, 105, 98, 130, 89, 93, 67, 98, 100, 118, 103, 110, 80, 79, 91, 91, 97, 118, 139, 92, 131, 87, 116, 93, 110, 110, 131, 101, 108, 84, 78, 75, 164, 106, 110, 99, 113, 108, 112, 93, 91, 93, 100, 100, 79, 96, 113, 89, 118, 92, 88, 92, 87, 93, 93, 93, 90, 83, 96, 88, 89, 91, 93, 92, 97, 100, 100, 89, 91, 112, 115, 95, 91, 95, 104, 74, 48, 77, 104, 128, 101, 94, 104, 90, 100, 88, 93, 98, 100, 112, 84, 98, 97, 114, 96, 100, 109, 83, 90, 107, 96, 103, 91, 95, 105, 113, 80, 101, 89, 74, 90, 89, 110, 74, 93, 84, 83, 69, 77, 107, 93, 88, 108, 84, 121, 89, 104, 90, 86, 84, 108, 107, 96, 98, 105, 108, 94, 106, 102, 88, 102, 102, 97, 111, 100, 96, 98, 78, 81, 108, 89, 99, 89, 81, 92, 100, 89, 79, 91, 101, 104, 103, 86, 105, 93, 92, 98, 95, 93, 87, 93, 87, 128, 86, 95, 114, 93, 83, 83, 88, 78, 112, 92, 74, 77, 82, 104, 113, 100, 78, 83, 96, 115, 86, 92, 99, 73, 128, 85, 88, 125, 96, 104, 95, 72, 75, 61, 117, 94, 100, 143, 97, 85, 86, 50, 74, 136, 89, 76, 40, 120, 84, 113, 115, 131, 100, 68, 95, 97, 101, 119, 100, 76, 120, 81, 143, 106, 40, 120, 99, 82, 117, 151, 104, 76, 92, 95, 94, 168, 111, 82, 87, 110, 107, 124, 74, 83, 150, 97, 91, 100, 111, 96, 99, 76, 98, 97, 99, 96, None, 90, 101, None, 101, 96, 88, 97, 108, 104, 116, 103, 109, 115, 74, 123, 108, 100, 101, 125, None, 90, 88, 109, 89, 104, 137, 106, 69, 103, 95, 132, 77, 96, 93, 104, 87, 101, 130, 77, 104, 149, 92, 102, 125, 107, 77, 124, 97, 84, 127, 81, 102, 124, 129, 106, 82, 130, 94, 154, 94, 117, 108, 106, 98, 114, 97, 117, 103, 124, 107, 161, 80, 129, 76, 129, 102, None, 162, 105, 109, 118, 104, 99, 112, 131, 112, 76, 128, 100, 118, 119, 104, 100, 103, 114, 99, 102, 107, 78, 89, 95, 160, 85, 100, 95, 115, 110, None, 122, 100, None, None, None, None, None, None, 77, None, None, None]\n"
     ]
    }
   ],
   "source": [
    "print([movie.get('Running time (int)', 'N/A') for movie in movie_info_list]) "
   ]
  },
  {
   "cell_type": "code",
   "execution_count": 179,
   "metadata": {},
   "outputs": [],
   "source": [
    "'''\n",
    "TODO\n",
    "Given either a string or a list of strings as input, return\n",
    "a number (int or float) which is equal to the monetary value\n",
    "money_conversion(\"$12.2 million\") --> 12200000\n",
    "money_conversion(\"$790,000\") --> 790000\n",
    "use test_money_conversion.py to test your solution\n",
    "'''\n",
    "amount = r\"thousand|million|billion\"\n",
    "number = r\"\\d+(,\\d{3})*\\.*\\d*\"\n",
    "\n",
    "word_re = rf\"\\${number}(-|\\sto\\s)?({number})?\\s({amount})\"\n",
    "value_re = rf\"\\${number}\"\n",
    "\n",
    "def word_to_value(word):\n",
    "    value_dict = {\"thousand\": 1000, \"million\": 1000000, \"billion\": 1000000000}\n",
    "    return value_dict[word]\n",
    "\n",
    "def parse_word_syntax(string):\n",
    "    value_string = re.search(number, string).group()\n",
    "    value = float(value_string.replace(\",\", \"\"))\n",
    "    word = re.search(amount, string, flags=re.I).group().lower()\n",
    "    word_value = word_to_value(word)\n",
    "    return value*word_value \n",
    "\n",
    "def parse_value_syntax(string):\n",
    "    value_string = re.search(number, string).group()\n",
    "    value = float(value_string.replace(\",\", \"\"))\n",
    "    return value\n",
    "\n",
    "def money_conversion(money):\n",
    "    if money == \"N/A\":\n",
    "        return None\n",
    "\n",
    "    if isinstance(money, list):\n",
    "        money= money[0]\n",
    "\n",
    "    word_syntax = re.search(word_re, money, flags=re.I)\n",
    "    value_syntax = re.search(value_re, money)\n",
    "\n",
    "    if word_syntax:\n",
    "        return parse_word_syntax(word_syntax.group())\n",
    "    elif value_syntax:\n",
    "        return parse_value_syntax(value_syntax.group())\n",
    "    else:\n",
    "        return None\n",
    "\n",
    "\n",
    "# print(re.search(word_re, \"$12.2 million\").group())\n",
    "# print(money_conversion(\"$12 Million\"))"
   ]
  },
  {
   "cell_type": "code",
   "execution_count": 180,
   "metadata": {},
   "outputs": [
    {
     "output_type": "execute_result",
     "data": {
      "text/plain": [
       "{'title': 'Incredibles 2',\n",
       " 'Directed by': 'Brad Bird',\n",
       " 'Produced by': ['John Walker', 'Nicole Paradis Grindle'],\n",
       " 'Written by': 'Brad Bird',\n",
       " 'Starring': ['Craig T. Nelson',\n",
       "  'Holly Hunter',\n",
       "  'Sarah Vowell',\n",
       "  'Huckleberry Milner',\n",
       "  'Samuel L. Jackson'],\n",
       " 'Music by': 'Michael Giacchino',\n",
       " 'Cinematography': ['Mahyar Abousaeedi', 'Erik Smitt'],\n",
       " 'Edited by': 'Stephen Schaffer',\n",
       " 'Production companies': ['Walt Disney Pictures', 'Pixar Animation Studios'],\n",
       " 'Distributed by': ['Walt Disney Studios', 'Motion Pictures'],\n",
       " 'Release date': ['June 5, 2018 ( Los Angeles )',\n",
       "  'June 15, 2018 (United States)'],\n",
       " 'Running time': '118 minutes',\n",
       " 'Country': 'United States',\n",
       " 'Language': 'English',\n",
       " 'Budget': '$200 million',\n",
       " 'Box office': '$1.243 billion',\n",
       " 'Running time (int)': 118,\n",
       " 'Budget (float)': 200000000.0,\n",
       " 'Box office (float)': 1243000000.0}"
      ]
     },
     "metadata": {},
     "execution_count": 180
    }
   ],
   "source": [
    "for movie in movie_info_list:\n",
    "    movie['Budget (float)'] = money_conversion(movie.get('Budget', \"N/A\"))\n",
    "    movie['Box office (float)'] = money_conversion(movie.get('Box office', \"N/A\"))\n",
    "\n",
    "money_conversion(str(movie_info_list[-40]['Budget']))\n",
    "movie_info_list[-40]"
   ]
  },
  {
   "cell_type": "code",
   "execution_count": 181,
   "metadata": {},
   "outputs": [],
   "source": [
    "# convert date to date time objects\n",
    "dates = [movie.get('Release date', 'N/A') for movie in movie_info_list]\n",
    "\n",
    "def clean_date(date):\n",
    "    return date.split(\"(\")[0].strip()\n",
    "\n",
    "def date_conversion(date):\n",
    "    formats = [\"%B %d, %Y\",\"%d %B %Y\"]\n",
    "    if isinstance(date, list):\n",
    "        date = date[0]\n",
    "\n",
    "    if date == \"N/A\":\n",
    "        return None\n",
    "\n",
    "    date_str = clean_date(date)\n",
    "    \n",
    "    for fmt in formats:\n",
    "        try:\n",
    "            return datetime.strptime(date_str, fmt)\n",
    "        except:\n",
    "            pass\n",
    "    return None\n",
    "\n",
    "\n",
    "# for date in dates:\n",
    "#     date_conversion(date)\n"
   ]
  },
  {
   "cell_type": "code",
   "execution_count": 182,
   "metadata": {},
   "outputs": [
    {
     "output_type": "execute_result",
     "data": {
      "text/plain": [
       "{'title': 'One Hundred and One Dalmatians',\n",
       " 'Directed by': ['Clyde Geronimi', 'Hamilton Luske', 'Wolfgang Reitherman'],\n",
       " 'Produced by': 'Walt Disney',\n",
       " 'Story by': 'Bill Peet',\n",
       " 'Based on': ['The Hundred and One Dalmatians', 'by', 'Dodie Smith'],\n",
       " 'Starring': ['Rod Taylor',\n",
       "  'Cate Bauer',\n",
       "  'Betty Lou Gerson',\n",
       "  'Ben Wright',\n",
       "  'Bill Lee (singing voice)',\n",
       "  'Lisa Davis',\n",
       "  'Martha Wentworth'],\n",
       " 'Music by': 'George Bruns',\n",
       " 'Edited by': ['Roy M. Brewer, Jr.', 'Donald Halliday'],\n",
       " 'Production company': 'Walt Disney Productions',\n",
       " 'Distributed by': 'Buena Vista Distribution',\n",
       " 'Release date': ['January 25, 1961'],\n",
       " 'Running time': '79 minutes',\n",
       " 'Country': 'United States',\n",
       " 'Language': 'English',\n",
       " 'Budget': '$3.6 million',\n",
       " 'Box office': '$303 million',\n",
       " 'Running time (int)': 79,\n",
       " 'Budget (float)': 3600000.0,\n",
       " 'Box office (float)': 303000000.0,\n",
       " 'Release date (datetime)': datetime.datetime(1961, 1, 25, 0, 0)}"
      ]
     },
     "metadata": {},
     "execution_count": 182
    }
   ],
   "source": [
    "for movie in movie_info_list:\n",
    "    movie['Release date (datetime)'] = date_conversion(movie.get('Release date', 'N/A'))\n",
    "\n",
    "movie_info_list[50]"
   ]
  },
  {
   "cell_type": "code",
   "execution_count": 183,
   "metadata": {},
   "outputs": [],
   "source": [
    "# craete a new function to save data catering for datetime to json \n",
    "# - using pickle\n",
    "\n",
    "def save_data_pickle(name, data):\n",
    "    with open(name, 'wb') as f:\n",
    "        pickle.dump(data, f)\n",
    "\n",
    "# craete a new function to load data from json\n",
    "# - using pickle\n",
    "\n",
    "def load_data_pickle(name):\n",
    "    with open(name, 'rb') as f:\n",
    "        return pickle.load(f)"
   ]
  },
  {
   "cell_type": "code",
   "execution_count": 184,
   "metadata": {},
   "outputs": [],
   "source": [
    "save_data_pickle(\"disney_movie_data_cleaned_more\", movie_info_list)\n"
   ]
  },
  {
   "cell_type": "code",
   "execution_count": 185,
   "metadata": {},
   "outputs": [
    {
     "output_type": "execute_result",
     "data": {
      "text/plain": [
       "{'title': 'Dumbo',\n",
       " 'Directed by': ['Supervising director:',\n",
       "  'Ben Sharpsteen',\n",
       "  'Sequence directors:',\n",
       "  'Norman Ferguson',\n",
       "  'Wilfred Jackson',\n",
       "  'Bill Roberts',\n",
       "  'Jack Kinney',\n",
       "  'Samuel Armstrong'],\n",
       " 'Produced by': 'Walt Disney',\n",
       " 'Story by': ['Otto Englander', 'Joe Grant', 'Dick Huemer'],\n",
       " 'Based on': ['Dumbo, the Flying Elephant',\n",
       "  'by',\n",
       "  'Helen Aberson',\n",
       "  'Harold Pearl'],\n",
       " 'Starring': ['Edward Brophy',\n",
       "  'Herman Bing',\n",
       "  'Margaret Wright',\n",
       "  'Sterling Holloway',\n",
       "  'Verna Felton',\n",
       "  'Cliff Edwards',\n",
       "  'James Baskett',\n",
       "  'Nick Stewart',\n",
       "  'Hall Johnson',\n",
       "  'Jim Carmichael'],\n",
       " 'Narrated by': 'John McLeish',\n",
       " 'Music by': ['Frank Churchill', 'Oliver Wallace'],\n",
       " 'Production company': 'Walt Disney Productions',\n",
       " 'Distributed by': 'RKO Radio Pictures',\n",
       " 'Release date': ['October 23, 1941 (New York City)',\n",
       "  'October 31, 1941 (U.S.)'],\n",
       " 'Running time': '64 minutes',\n",
       " 'Country': 'United States',\n",
       " 'Language': 'English',\n",
       " 'Budget': '$950,000',\n",
       " 'Box office': '$1.3 million (est. United States/Canada rentals, 1941)',\n",
       " 'Running time (int)': 64,\n",
       " 'Budget (float)': 950000.0,\n",
       " 'Box office (float)': 1300000.0,\n",
       " 'Release date (datetime)': datetime.datetime(1941, 10, 23, 0, 0)}"
      ]
     },
     "metadata": {},
     "execution_count": 185
    }
   ],
   "source": [
    "a = load_data_pickle(\"disney_movie_data_cleaned_more\")\n",
    "a[5]"
   ]
  },
  {
   "source": [
    "### Task 4: Attach IMBD/Rotten Tomatoes Scores(rating)\n",
    "##### using OMDB Movie API"
   ],
   "cell_type": "markdown",
   "metadata": {}
  },
  {
   "cell_type": "code",
   "execution_count": 186,
   "metadata": {},
   "outputs": [
    {
     "output_type": "execute_result",
     "data": {
      "text/plain": [
       "{'title': 'One Hundred and One Dalmatians',\n",
       " 'Directed by': ['Clyde Geronimi', 'Hamilton Luske', 'Wolfgang Reitherman'],\n",
       " 'Produced by': 'Walt Disney',\n",
       " 'Story by': 'Bill Peet',\n",
       " 'Based on': ['The Hundred and One Dalmatians', 'by', 'Dodie Smith'],\n",
       " 'Starring': ['Rod Taylor',\n",
       "  'Cate Bauer',\n",
       "  'Betty Lou Gerson',\n",
       "  'Ben Wright',\n",
       "  'Bill Lee (singing voice)',\n",
       "  'Lisa Davis',\n",
       "  'Martha Wentworth'],\n",
       " 'Music by': 'George Bruns',\n",
       " 'Edited by': ['Roy M. Brewer, Jr.', 'Donald Halliday'],\n",
       " 'Production company': 'Walt Disney Productions',\n",
       " 'Distributed by': 'Buena Vista Distribution',\n",
       " 'Release date': ['January 25, 1961'],\n",
       " 'Running time': '79 minutes',\n",
       " 'Country': 'United States',\n",
       " 'Language': 'English',\n",
       " 'Budget': '$3.6 million',\n",
       " 'Box office': '$303 million',\n",
       " 'Running time (int)': 79,\n",
       " 'Budget (float)': 3600000.0,\n",
       " 'Box office (float)': 303000000.0,\n",
       " 'Release date (datetime)': datetime.datetime(1961, 1, 25, 0, 0)}"
      ]
     },
     "metadata": {},
     "execution_count": 186
    }
   ],
   "source": [
    "movie_info_list = load_data_pickle(\"disney_movie_data_cleaned_more\")\n",
    "movie_info_list[50]"
   ]
  },
  {
   "cell_type": "code",
   "execution_count": 187,
   "metadata": {},
   "outputs": [],
   "source": [
    "# replace ************ with api key\n",
    "\n",
    "def get_ombd_info(title):\n",
    "    base_url = 'http://www.omdbapi.com/?***********&apikey='\n",
    "    parameters = {\"apikey\": '********', 't': title}\n",
    "    # params_encoded = urllib.parse.urlencode(parameters)\n",
    "    full_url = base_url + '********'\n",
    "    return requests.get(full_url).json()\n",
    "\n",
    "# get_ombd_info('')\n",
    "\n",
    "def get_rotten_score(ombd_info):\n",
    "    ratings = ombd_info.get('Rating', [])\n",
    "    for rate in ratings:\n",
    "        if rate['Score'] == 'Rotten Tomatoes':\n",
    "            return rate['Value']\n",
    "    return None\n",
    "\n",
    "info = get_ombd_info('')\n",
    "get_rotten_score(info)"
   ]
  },
  {
   "cell_type": "code",
   "execution_count": 188,
   "metadata": {},
   "outputs": [],
   "source": [
    "for movie in movie_info_list:\n",
    "    title = movie['title']\n",
    "    omdb_info = get_ombd_info(title)\n",
    "    movie['imdb'] = omdb_info.get('imdbRating', None)\n",
    "    movie['metascore'] = omdb_info.get('Metascore', None)\n",
    "    movie['rotten_tomatoes'] = get_rotten_score(omdb_info)"
   ]
  },
  {
   "cell_type": "code",
   "execution_count": 189,
   "metadata": {},
   "outputs": [],
   "source": [
    "save_data_pickle('disney_movie_data_final.pickle', movie_info_list )"
   ]
  },
  {
   "source": [
    "### Task 5: Save data to JSON & CSV file"
   ],
   "cell_type": "markdown",
   "metadata": {}
  },
  {
   "cell_type": "code",
   "execution_count": 190,
   "metadata": {},
   "outputs": [],
   "source": [
    "movie_info_copy = [movie.copy() for movie in movie_info_list]"
   ]
  },
  {
   "cell_type": "code",
   "execution_count": 191,
   "metadata": {},
   "outputs": [
    {
     "output_type": "execute_result",
     "data": {
      "text/plain": [
       "{'title': 'Peter Pan',\n",
       " 'Directed by': ['Clyde Geronimi', 'Wilfred Jackson', 'Hamilton Luske'],\n",
       " 'Produced by': 'Walt Disney',\n",
       " 'Story by': ['Milt Banta',\n",
       "  'Bill Cottrell',\n",
       "  'Winston Hibler',\n",
       "  'Bill Peet',\n",
       "  'Erdman Penner',\n",
       "  'Joe Rinaldi',\n",
       "  'Ted Sears',\n",
       "  'Ralph Wright'],\n",
       " 'Based on': ['Peter and Wendy', 'by', 'J. M. Barrie'],\n",
       " 'Starring': ['Bobby Driscoll',\n",
       "  'Kathryn Beaumont',\n",
       "  'Hans Conried',\n",
       "  'Paul Collins',\n",
       "  'Tommy Luske'],\n",
       " 'Narrated by': 'Tom Conway',\n",
       " 'Music by': 'Oliver Wallace',\n",
       " 'Production company': 'Walt Disney Productions',\n",
       " 'Distributed by': 'RKO Radio Pictures',\n",
       " 'Release date': ['February 5, 1953 (United States)'],\n",
       " 'Running time': '77 minutes',\n",
       " 'Country': 'United States',\n",
       " 'Language': 'English',\n",
       " 'Budget': '$4 million',\n",
       " 'Box office': '$87.4 million',\n",
       " 'Running time (int)': 77,\n",
       " 'Budget (float)': 4000000.0,\n",
       " 'Box office (float)': 87400000.0,\n",
       " 'Release date (datetime)': datetime.datetime(1953, 2, 5, 0, 0),\n",
       " 'imdb': '7.6',\n",
       " 'metascore': '67',\n",
       " 'rotten_tomatoes': None}"
      ]
     },
     "metadata": {},
     "execution_count": 191
    }
   ],
   "source": [
    "movie_info_copy[20]"
   ]
  },
  {
   "cell_type": "code",
   "execution_count": 192,
   "metadata": {},
   "outputs": [],
   "source": [
    "for movie in movie_info_copy:\n",
    "    current_date = movie['Release date (datetime)']\n",
    "    if current_date:\n",
    "        movie['Release date (datetime)'] = current_date.strftime(\"%B %d, %Y\")\n",
    "    else:\n",
    "        movie['Release date (datetime)'] = None"
   ]
  },
  {
   "cell_type": "code",
   "execution_count": 193,
   "metadata": {},
   "outputs": [
    {
     "output_type": "execute_result",
     "data": {
      "text/plain": [
       "{'title': 'Peter Pan',\n",
       " 'Directed by': ['Clyde Geronimi', 'Wilfred Jackson', 'Hamilton Luske'],\n",
       " 'Produced by': 'Walt Disney',\n",
       " 'Story by': ['Milt Banta',\n",
       "  'Bill Cottrell',\n",
       "  'Winston Hibler',\n",
       "  'Bill Peet',\n",
       "  'Erdman Penner',\n",
       "  'Joe Rinaldi',\n",
       "  'Ted Sears',\n",
       "  'Ralph Wright'],\n",
       " 'Based on': ['Peter and Wendy', 'by', 'J. M. Barrie'],\n",
       " 'Starring': ['Bobby Driscoll',\n",
       "  'Kathryn Beaumont',\n",
       "  'Hans Conried',\n",
       "  'Paul Collins',\n",
       "  'Tommy Luske'],\n",
       " 'Narrated by': 'Tom Conway',\n",
       " 'Music by': 'Oliver Wallace',\n",
       " 'Production company': 'Walt Disney Productions',\n",
       " 'Distributed by': 'RKO Radio Pictures',\n",
       " 'Release date': ['February 5, 1953 (United States)'],\n",
       " 'Running time': '77 minutes',\n",
       " 'Country': 'United States',\n",
       " 'Language': 'English',\n",
       " 'Budget': '$4 million',\n",
       " 'Box office': '$87.4 million',\n",
       " 'Running time (int)': 77,\n",
       " 'Budget (float)': 4000000.0,\n",
       " 'Box office (float)': 87400000.0,\n",
       " 'Release date (datetime)': 'February 05, 1953',\n",
       " 'imdb': '7.6',\n",
       " 'metascore': '67',\n",
       " 'rotten_tomatoes': None}"
      ]
     },
     "metadata": {},
     "execution_count": 193
    }
   ],
   "source": [
    "movie_info_copy[20]"
   ]
  },
  {
   "cell_type": "code",
   "execution_count": 194,
   "metadata": {},
   "outputs": [],
   "source": [
    "# save to json\n",
    "save_data('disney_data_final.json', movie_info_copy)\n"
   ]
  },
  {
   "cell_type": "code",
   "execution_count": 195,
   "metadata": {},
   "outputs": [],
   "source": [
    "df = pd.DataFrame(movie_info_list)"
   ]
  },
  {
   "cell_type": "code",
   "execution_count": 196,
   "metadata": {},
   "outputs": [],
   "source": [
    "df.head()\n",
    "df.to_csv('disney_movie_final.csv')"
   ]
  },
  {
   "cell_type": "code",
   "execution_count": 197,
   "metadata": {},
   "outputs": [
    {
     "output_type": "execute_result",
     "data": {
      "text/plain": [
       "                       title  \\\n",
       "273            Sacred Planet   \n",
       "291              Roving Mars   \n",
       "0    Academy Award Review of   \n",
       "7             Saludos Amigos   \n",
       "130   A Tale of Two Critters   \n",
       "\n",
       "                                    Production company  \\\n",
       "273                               Walt Disney Pictures   \n",
       "291  [Walt Disney Pictures, White Mountain Films, T...   \n",
       "0                              Walt Disney Productions   \n",
       "7                              Walt Disney Productions   \n",
       "130                            Walt Disney Productions   \n",
       "\n",
       "                                          Release date  \\\n",
       "273                                   [April 22, 2004]   \n",
       "291                                 [January 27, 2006]   \n",
       "0                                       [May 19, 1937]   \n",
       "7    [August 24, 1942 (World Premiere-Rio de Janeir...   \n",
       "130                                    [June 22, 1977]   \n",
       "\n",
       "                             Running time                            Country  \\\n",
       "273                            40 minutes  [Canada, Malaysia, United States]   \n",
       "291                            40 minutes                      United States   \n",
       "0    41 minutes (74 minutes 1966 release)                      United States   \n",
       "7                              42 minutes                      United States   \n",
       "130                            48 minutes                      United States   \n",
       "\n",
       "                           Language                      Box office  \\\n",
       "273                         English                      $1,108,356   \n",
       "291                         English                     $11 million   \n",
       "0                           English                         $45.472   \n",
       "7    [English, Portuguese, Spanish]  $1,135,000 (worldwide rentals)   \n",
       "130                         English                             NaN   \n",
       "\n",
       "     Running time (int)  Budget (float)  Box office (float)  ...  \\\n",
       "273                40.0             NaN        1.108356e+06  ...   \n",
       "291                40.0       1000000.0        1.100000e+07  ...   \n",
       "0                  41.0             NaN        4.547200e+01  ...   \n",
       "7                  42.0             NaN        1.135000e+06  ...   \n",
       "130                48.0             NaN                 NaN  ...   \n",
       "\n",
       "    Production companies Japanese Hepburn Adaptation by Animation by  \\\n",
       "273                  NaN      NaN     NaN           NaN          NaN   \n",
       "291                  NaN      NaN     NaN           NaN          NaN   \n",
       "0                    NaN      NaN     NaN           NaN          NaN   \n",
       "7                    NaN      NaN     NaN           NaN          NaN   \n",
       "130                  NaN      NaN     NaN           NaN          NaN   \n",
       "\n",
       "    Traditional Simplified Created by Original work Owned by  \n",
       "273         NaN        NaN        NaN           NaN      NaN  \n",
       "291         NaN        NaN        NaN           NaN      NaN  \n",
       "0           NaN        NaN        NaN           NaN      NaN  \n",
       "7           NaN        NaN        NaN           NaN      NaN  \n",
       "130         NaN        NaN        NaN           NaN      NaN  \n",
       "\n",
       "[5 rows x 37 columns]"
      ],
      "text/html": "<div>\n<style scoped>\n    .dataframe tbody tr th:only-of-type {\n        vertical-align: middle;\n    }\n\n    .dataframe tbody tr th {\n        vertical-align: top;\n    }\n\n    .dataframe thead th {\n        text-align: right;\n    }\n</style>\n<table border=\"1\" class=\"dataframe\">\n  <thead>\n    <tr style=\"text-align: right;\">\n      <th></th>\n      <th>title</th>\n      <th>Production company</th>\n      <th>Release date</th>\n      <th>Running time</th>\n      <th>Country</th>\n      <th>Language</th>\n      <th>Box office</th>\n      <th>Running time (int)</th>\n      <th>Budget (float)</th>\n      <th>Box office (float)</th>\n      <th>...</th>\n      <th>Production companies</th>\n      <th>Japanese</th>\n      <th>Hepburn</th>\n      <th>Adaptation by</th>\n      <th>Animation by</th>\n      <th>Traditional</th>\n      <th>Simplified</th>\n      <th>Created by</th>\n      <th>Original work</th>\n      <th>Owned by</th>\n    </tr>\n  </thead>\n  <tbody>\n    <tr>\n      <th>273</th>\n      <td>Sacred Planet</td>\n      <td>Walt Disney Pictures</td>\n      <td>[April 22, 2004]</td>\n      <td>40 minutes</td>\n      <td>[Canada, Malaysia, United States]</td>\n      <td>English</td>\n      <td>$1,108,356</td>\n      <td>40.0</td>\n      <td>NaN</td>\n      <td>1.108356e+06</td>\n      <td>...</td>\n      <td>NaN</td>\n      <td>NaN</td>\n      <td>NaN</td>\n      <td>NaN</td>\n      <td>NaN</td>\n      <td>NaN</td>\n      <td>NaN</td>\n      <td>NaN</td>\n      <td>NaN</td>\n      <td>NaN</td>\n    </tr>\n    <tr>\n      <th>291</th>\n      <td>Roving Mars</td>\n      <td>[Walt Disney Pictures, White Mountain Films, T...</td>\n      <td>[January 27, 2006]</td>\n      <td>40 minutes</td>\n      <td>United States</td>\n      <td>English</td>\n      <td>$11 million</td>\n      <td>40.0</td>\n      <td>1000000.0</td>\n      <td>1.100000e+07</td>\n      <td>...</td>\n      <td>NaN</td>\n      <td>NaN</td>\n      <td>NaN</td>\n      <td>NaN</td>\n      <td>NaN</td>\n      <td>NaN</td>\n      <td>NaN</td>\n      <td>NaN</td>\n      <td>NaN</td>\n      <td>NaN</td>\n    </tr>\n    <tr>\n      <th>0</th>\n      <td>Academy Award Review of</td>\n      <td>Walt Disney Productions</td>\n      <td>[May 19, 1937]</td>\n      <td>41 minutes (74 minutes 1966 release)</td>\n      <td>United States</td>\n      <td>English</td>\n      <td>$45.472</td>\n      <td>41.0</td>\n      <td>NaN</td>\n      <td>4.547200e+01</td>\n      <td>...</td>\n      <td>NaN</td>\n      <td>NaN</td>\n      <td>NaN</td>\n      <td>NaN</td>\n      <td>NaN</td>\n      <td>NaN</td>\n      <td>NaN</td>\n      <td>NaN</td>\n      <td>NaN</td>\n      <td>NaN</td>\n    </tr>\n    <tr>\n      <th>7</th>\n      <td>Saludos Amigos</td>\n      <td>Walt Disney Productions</td>\n      <td>[August 24, 1942 (World Premiere-Rio de Janeir...</td>\n      <td>42 minutes</td>\n      <td>United States</td>\n      <td>[English, Portuguese, Spanish]</td>\n      <td>$1,135,000 (worldwide rentals)</td>\n      <td>42.0</td>\n      <td>NaN</td>\n      <td>1.135000e+06</td>\n      <td>...</td>\n      <td>NaN</td>\n      <td>NaN</td>\n      <td>NaN</td>\n      <td>NaN</td>\n      <td>NaN</td>\n      <td>NaN</td>\n      <td>NaN</td>\n      <td>NaN</td>\n      <td>NaN</td>\n      <td>NaN</td>\n    </tr>\n    <tr>\n      <th>130</th>\n      <td>A Tale of Two Critters</td>\n      <td>Walt Disney Productions</td>\n      <td>[June 22, 1977]</td>\n      <td>48 minutes</td>\n      <td>United States</td>\n      <td>English</td>\n      <td>NaN</td>\n      <td>48.0</td>\n      <td>NaN</td>\n      <td>NaN</td>\n      <td>...</td>\n      <td>NaN</td>\n      <td>NaN</td>\n      <td>NaN</td>\n      <td>NaN</td>\n      <td>NaN</td>\n      <td>NaN</td>\n      <td>NaN</td>\n      <td>NaN</td>\n      <td>NaN</td>\n      <td>NaN</td>\n    </tr>\n  </tbody>\n</table>\n<p>5 rows × 37 columns</p>\n</div>"
     },
     "metadata": {},
     "execution_count": 197
    }
   ],
   "source": [
    "# some analysis\n",
    "running_time = df.sort_values(['Running time (int)'], ascending=True)\n",
    "running_time.head()"
   ]
  }
 ]
}